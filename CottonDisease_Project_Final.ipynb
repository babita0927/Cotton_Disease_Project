{
  "cells": [
    {
      "cell_type": "markdown",
      "metadata": {
        "id": "33MlTqzPekbz"
      },
      "source": [
        "Dataset collected from https://drive.google.com/drive/folders/1vdr9CC9ChYVW2iXp6PlfyMOGD-4Um1ue which contains images of fresh cotton leaf, fresh cotton plants, diseased cotton leaf and diseased cotton plant."
      ]
    },
    {
      "cell_type": "code",
      "source": [],
      "metadata": {
        "id": "LJPJTD2tVAgG"
      },
      "execution_count": null,
      "outputs": []
    },
    {
      "cell_type": "markdown",
      "metadata": {
        "id": "tFc2Jnueekb5"
      },
      "source": [
        "#### Upload Dataset from Drive"
      ]
    },
    {
      "cell_type": "code",
      "execution_count": 1,
      "metadata": {
        "colab": {
          "base_uri": "https://localhost:8080/"
        },
        "id": "vCcIJ_3pn-05",
        "outputId": "d42802d0-b30c-4fdf-910c-e3ef5d5ed8fb"
      },
      "outputs": [
        {
          "output_type": "stream",
          "name": "stdout",
          "text": [
            "Mounted at /content/drive\n"
          ]
        }
      ],
      "source": [
        "from google.colab import drive\n",
        "drive.mount('/content/drive')"
      ]
    },
    {
      "cell_type": "markdown",
      "metadata": {
        "id": "_HbOx-JRekb6"
      },
      "source": [
        "#### Import Required Libraries"
      ]
    },
    {
      "cell_type": "code",
      "execution_count": 2,
      "metadata": {
        "id": "Xt4RpA9BoJx1"
      },
      "outputs": [],
      "source": [
        "import tensorflow\n",
        "from tensorflow.keras.layers import Input, Lambda, Dense, Flatten\n",
        "from tensorflow.keras.models import Model\n",
        "from tensorflow.keras.preprocessing import image\n",
        "from tensorflow.keras.preprocessing.image import ImageDataGenerator,load_img\n",
        "from tensorflow.keras.models import Sequential\n",
        "import numpy as np\n",
        "from glob import glob\n",
        "import matplotlib.pyplot as plt"
      ]
    },
    {
      "cell_type": "markdown",
      "metadata": {
        "id": "GnlmXzTIekb7"
      },
      "source": [
        "####  Save Training & Validation Data Path and Provide Input Image Size"
      ]
    },
    {
      "cell_type": "code",
      "execution_count": 3,
      "metadata": {
        "id": "VnWGCrLboLA8"
      },
      "outputs": [],
      "source": [
        "IMAGE_SIZE = [224, 224]\n",
        "\n",
        "train_path = '/content/drive/MyDrive/Colab Notebooks/Dataset_cotton/train'\n",
        "valid_path = '/content/drive/MyDrive/Colab Notebooks/Dataset_cotton/test'"
      ]
    },
    {
      "cell_type": "markdown",
      "metadata": {
        "id": "dggcdM1Jekb8"
      },
      "source": [
        "## Model1 : ResNet152V2 "
      ]
    },
    {
      "cell_type": "code",
      "execution_count": 9,
      "metadata": {
        "id": "ioi4Z3gkoQZq",
        "colab": {
          "base_uri": "https://localhost:8080/"
        },
        "outputId": "fc013792-0d79-4e48-af9a-162326b9e8bc"
      },
      "outputs": [
        {
          "output_type": "stream",
          "name": "stdout",
          "text": [
            "Downloading data from https://storage.googleapis.com/tensorflow/keras-applications/resnet/resnet152v2_weights_tf_dim_ordering_tf_kernels_notop.h5\n",
            "234545216/234545216 [==============================] - 1s 0us/step\n"
          ]
        }
      ],
      "source": [
        "#using imagenet weights\n",
        "resnet152V2 =tensorflow.keras.applications.ResNet152V2(input_shape=IMAGE_SIZE + [3], weights='imagenet', include_top=False)"
      ]
    },
    {
      "cell_type": "code",
      "execution_count": 10,
      "metadata": {
        "id": "fRYs0jn3oTfS"
      },
      "outputs": [],
      "source": [
        "# not train existing weights\n",
        "for layer in resnet152V2.layers:\n",
        "    layer.trainable = False"
      ]
    },
    {
      "cell_type": "code",
      "execution_count": 11,
      "metadata": {
        "id": "dElQQRZBoVnp"
      },
      "outputs": [],
      "source": [
        "#number of output classes\n",
        "folders = glob('/content/drive/MyDrive/Colab Notebooks/Dataset_cotton/train/*')"
      ]
    },
    {
      "cell_type": "code",
      "execution_count": 12,
      "metadata": {
        "colab": {
          "base_uri": "https://localhost:8080/"
        },
        "id": "AG6nDwch438h",
        "outputId": "5e44c254-a308-423d-fd44-e3bcfc27c0fd"
      },
      "outputs": [
        {
          "output_type": "execute_result",
          "data": {
            "text/plain": [
              "['/content/drive/MyDrive/Colab Notebooks/Dataset_cotton/train/fresh cotton leaf',\n",
              " '/content/drive/MyDrive/Colab Notebooks/Dataset_cotton/train/diseased cotton plant',\n",
              " '/content/drive/MyDrive/Colab Notebooks/Dataset_cotton/train/fresh cotton plant',\n",
              " '/content/drive/MyDrive/Colab Notebooks/Dataset_cotton/train/diseased cotton leaf']"
            ]
          },
          "metadata": {},
          "execution_count": 12
        }
      ],
      "source": [
        "folders"
      ]
    },
    {
      "cell_type": "code",
      "source": [
        "img_path = '/content/drive/MyDrive/Colab Notebooks/Dataset_cotton/train/fresh cotton leaf/d (1)_iaip.jpg'\n",
        "img = plt.imread(img_path)\n",
        "# Plot the image\n",
        "plt.imshow(img)\n",
        "plt.show()\n"
      ],
      "metadata": {
        "colab": {
          "base_uri": "https://localhost:8080/",
          "height": 269
        },
        "id": "jzhOjF7jN2fz",
        "outputId": "cad0857b-d894-4ba2-84e1-c431ff0da595"
      },
      "execution_count": 4,
      "outputs": [
        {
          "output_type": "display_data",
          "data": {
            "text/plain": [
              "<Figure size 432x288 with 1 Axes>"
            ],
            "image/png": "[encoded data removed]"
          },
          "metadata": {
            "needs_background": "light"
          }
        }
      ]
    },
    {
      "cell_type": "markdown",
      "metadata": {
        "id": "-DOdW6WLekb_"
      },
      "source": [
        "#### Flattens the output of the ResNet152V2 convolutional neural network."
      ]
    },
    {
      "cell_type": "code",
      "execution_count": 13,
      "metadata": {
        "id": "iuJVEZo1oXv5"
      },
      "outputs": [],
      "source": [
        "x = Flatten()(resnet152V2.output)"
      ]
    },
    {
      "cell_type": "code",
      "execution_count": 14,
      "metadata": {
        "id": "IKLIbLq2oZwc"
      },
      "outputs": [],
      "source": [
        "prediction = Dense(len(folders), activation='softmax')(x)\n",
        "model_resnet152v2 = Model(inputs=resnet152V2.input, outputs=prediction)"
      ]
    },
    {
      "cell_type": "code",
      "execution_count": 15,
      "metadata": {
        "colab": {
          "base_uri": "https://localhost:8080/"
        },
        "id": "mfz0xUfwocnF",
        "outputId": "65f63570-5180-4aaa-d54c-efb36f303fa5"
      },
      "outputs": [
        {
          "output_type": "stream",
          "name": "stdout",
          "text": [
            "Model: \"model\"\n",
            "__________________________________________________________________________________________________\n",
            " Layer (type)                   Output Shape         Param #     Connected to                     \n",
            "==================================================================================================\n",
            " input_1 (InputLayer)           [(None, 224, 224, 3  0           []                               \n",
            "                                )]                                                                \n",
            "                                                                                                  \n",
            " conv1_pad (ZeroPadding2D)      (None, 230, 230, 3)  0           ['input_1[0][0]']                \n",
            "                                                                                                  \n",
            " conv1_conv (Conv2D)            (None, 112, 112, 64  9472        ['conv1_pad[0][0]']              \n",
            "                                )                                                                 \n",
            "                                                                                                  \n",
            " pool1_pad (ZeroPadding2D)      (None, 114, 114, 64  0           ['conv1_conv[0][0]']             \n",
            "                                )                                                                 \n",
            "                                                                                                  \n",
            " pool1_pool (MaxPooling2D)      (None, 56, 56, 64)   0           ['pool1_pad[0][0]']              \n",
            "                                                                                                  \n",
            " conv2_block1_preact_bn (BatchN  (None, 56, 56, 64)  256         ['pool1_pool[0][0]']             \n",
            " ormalization)                                                                                    \n",
            "                                                                                                  \n",
            " conv2_block1_preact_relu (Acti  (None, 56, 56, 64)  0           ['conv2_block1_preact_bn[0][0]'] \n",
            " vation)                                                                                          \n",
            "                                                                                                  \n",
            " conv2_block1_1_conv (Conv2D)   (None, 56, 56, 64)   4096        ['conv2_block1_preact_relu[0][0]'\n",
            "                                                                 ]                                \n",
            "                                                                                                  \n",
            " conv2_block1_1_bn (BatchNormal  (None, 56, 56, 64)  256         ['conv2_block1_1_conv[0][0]']    \n",
            " ization)                                                                                         \n",
            "                                                                                                  \n",
            " conv2_block1_1_relu (Activatio  (None, 56, 56, 64)  0           ['conv2_block1_1_bn[0][0]']      \n",
            " n)                                                                                               \n",
            "                                                                                                  \n",
            " conv2_block1_2_pad (ZeroPaddin  (None, 58, 58, 64)  0           ['conv2_block1_1_relu[0][0]']    \n",
            " g2D)                                                                                             \n",
            "                                                                                                  \n",
            " conv2_block1_2_conv (Conv2D)   (None, 56, 56, 64)   36864       ['conv2_block1_2_pad[0][0]']     \n",
            "                                                                                                  \n",
            " conv2_block1_2_bn (BatchNormal  (None, 56, 56, 64)  256         ['conv2_block1_2_conv[0][0]']    \n",
            " ization)                                                                                         \n",
            "                                                                                                  \n",
            " conv2_block1_2_relu (Activatio  (None, 56, 56, 64)  0           ['conv2_block1_2_bn[0][0]']      \n",
            " n)                                                                                               \n",
            "                                                                                                  \n",
            " conv2_block1_0_conv (Conv2D)   (None, 56, 56, 256)  16640       ['conv2_block1_preact_relu[0][0]'\n",
            "                                                                 ]                                \n",
            "                                                                                                  \n",
            " conv2_block1_3_conv (Conv2D)   (None, 56, 56, 256)  16640       ['conv2_block1_2_relu[0][0]']    \n",
            "                                                                                                  \n",
            " conv2_block1_out (Add)         (None, 56, 56, 256)  0           ['conv2_block1_0_conv[0][0]',    \n",
            "                                                                  'conv2_block1_3_conv[0][0]']    \n",
            "                                                                                                  \n",
            " conv2_block2_preact_bn (BatchN  (None, 56, 56, 256)  1024       ['conv2_block1_out[0][0]']       \n",
            " ormalization)                                                                                    \n",
            "                                                                                                  \n",
            " conv2_block2_preact_relu (Acti  (None, 56, 56, 256)  0          ['conv2_block2_preact_bn[0][0]'] \n",
            " vation)                                                                                          \n",
            "                                                                                                  \n",
            " conv2_block2_1_conv (Conv2D)   (None, 56, 56, 64)   16384       ['conv2_block2_preact_relu[0][0]'\n",
            "                                                                 ]                                \n",
            "                                                                                                  \n",
            " conv2_block2_1_bn (BatchNormal  (None, 56, 56, 64)  256         ['conv2_block2_1_conv[0][0]']    \n",
            " ization)                                                                                         \n",
            "                                                                                                  \n",
            " conv2_block2_1_relu (Activatio  (None, 56, 56, 64)  0           ['conv2_block2_1_bn[0][0]']      \n",
            " n)                                                                                               \n",
            "                                                                                                  \n",
            " conv2_block2_2_pad (ZeroPaddin  (None, 58, 58, 64)  0           ['conv2_block2_1_relu[0][0]']    \n",
            " g2D)                                                                                             \n",
            "                                                                                                  \n",
            " conv2_block2_2_conv (Conv2D)   (None, 56, 56, 64)   36864       ['conv2_block2_2_pad[0][0]']     \n",
            "                                                                                                  \n",
            " conv2_block2_2_bn (BatchNormal  (None, 56, 56, 64)  256         ['conv2_block2_2_conv[0][0]']    \n",
            " ization)                                                                                         \n",
            "                                                                                                  \n",
            " conv2_block2_2_relu (Activatio  (None, 56, 56, 64)  0           ['conv2_block2_2_bn[0][0]']      \n",
            " n)                                                                                               \n",
            "                                                                                                  \n",
            " conv2_block2_3_conv (Conv2D)   (None, 56, 56, 256)  16640       ['conv2_block2_2_relu[0][0]']    \n",
            "                                                                                                  \n",
            " conv2_block2_out (Add)         (None, 56, 56, 256)  0           ['conv2_block1_out[0][0]',       \n",
            "                                                                  'conv2_block2_3_conv[0][0]']    \n",
            "                                                                                                  \n",
            " conv2_block3_preact_bn (BatchN  (None, 56, 56, 256)  1024       ['conv2_block2_out[0][0]']       \n",
            " ormalization)                                                                                    \n",
            "                                                                                                  \n",
            " conv2_block3_preact_relu (Acti  (None, 56, 56, 256)  0          ['conv2_block3_preact_bn[0][0]'] \n",
            " vation)                                                                                          \n",
            "                                                                                                  \n",
            " conv2_block3_1_conv (Conv2D)   (None, 56, 56, 64)   16384       ['conv2_block3_preact_relu[0][0]'\n",
            "                                                                 ]                                \n",
            "                                                                                                  \n",
            " conv2_block3_1_bn (BatchNormal  (None, 56, 56, 64)  256         ['conv2_block3_1_conv[0][0]']    \n",
            " ization)                                                                                         \n",
            "                                                                                                  \n",
            " conv2_block3_1_relu (Activatio  (None, 56, 56, 64)  0           ['conv2_block3_1_bn[0][0]']      \n",
            " n)                                                                                               \n",
            "                                                                                                  \n",
            " conv2_block3_2_pad (ZeroPaddin  (None, 58, 58, 64)  0           ['conv2_block3_1_relu[0][0]']    \n",
            " g2D)                                                                                             \n",
            "                                                                                                  \n",
            " conv2_block3_2_conv (Conv2D)   (None, 28, 28, 64)   36864       ['conv2_block3_2_pad[0][0]']     \n",
            "                                                                                                  \n",
            " conv2_block3_2_bn (BatchNormal  (None, 28, 28, 64)  256         ['conv2_block3_2_conv[0][0]']    \n",
            " ization)                                                                                         \n",
            "                                                                                                  \n",
            " conv2_block3_2_relu (Activatio  (None, 28, 28, 64)  0           ['conv2_block3_2_bn[0][0]']      \n",
            " n)                                                                                               \n",
            "                                                                                                  \n",
            " max_pooling2d (MaxPooling2D)   (None, 28, 28, 256)  0           ['conv2_block2_out[0][0]']       \n",
            "                                                                                                  \n",
            " conv2_block3_3_conv (Conv2D)   (None, 28, 28, 256)  16640       ['conv2_block3_2_relu[0][0]']    \n",
            "                                                                                                  \n",
            " conv2_block3_out (Add)         (None, 28, 28, 256)  0           ['max_pooling2d[0][0]',          \n",
            "                                                                  'conv2_block3_3_conv[0][0]']    \n",
            "                                                                                                  \n",
            " conv3_block1_preact_bn (BatchN  (None, 28, 28, 256)  1024       ['conv2_block3_out[0][0]']       \n",
            " ormalization)                                                                                    \n",
            "                                                                                                  \n",
            " conv3_block1_preact_relu (Acti  (None, 28, 28, 256)  0          ['conv3_block1_preact_bn[0][0]'] \n",
            " vation)                                                                                          \n",
            "                                                                                                  \n",
            " conv3_block1_1_conv (Conv2D)   (None, 28, 28, 128)  32768       ['conv3_block1_preact_relu[0][0]'\n",
            "                                                                 ]                                \n",
            "                                                                                                  \n",
            " conv3_block1_1_bn (BatchNormal  (None, 28, 28, 128)  512        ['conv3_block1_1_conv[0][0]']    \n",
            " ization)                                                                                         \n",
            "                                                                                                  \n",
            " conv3_block1_1_relu (Activatio  (None, 28, 28, 128)  0          ['conv3_block1_1_bn[0][0]']      \n",
            " n)                                                                                               \n",
            "                                                                                                  \n",
            " conv3_block1_2_pad (ZeroPaddin  (None, 30, 30, 128)  0          ['conv3_block1_1_relu[0][0]']    \n",
            " g2D)                                                                                             \n",
            "                                                                                                  \n",
            " conv3_block1_2_conv (Conv2D)   (None, 28, 28, 128)  147456      ['conv3_block1_2_pad[0][0]']     \n",
            "                                                                                                  \n",
            " conv3_block1_2_bn (BatchNormal  (None, 28, 28, 128)  512        ['conv3_block1_2_conv[0][0]']    \n",
            " ization)                                                                                         \n",
            "                                                                                                  \n",
            " conv3_block1_2_relu (Activatio  (None, 28, 28, 128)  0          ['conv3_block1_2_bn[0][0]']      \n",
            " n)                                                                                               \n",
            "                                                                                                  \n",
            " conv3_block1_0_conv (Conv2D)   (None, 28, 28, 512)  131584      ['conv3_block1_preact_relu[0][0]'\n",
            "                                                                 ]                                \n",
            "                                                                                                  \n",
            " conv3_block1_3_conv (Conv2D)   (None, 28, 28, 512)  66048       ['conv3_block1_2_relu[0][0]']    \n",
            "                                                                                                  \n",
            " conv3_block1_out (Add)         (None, 28, 28, 512)  0           ['conv3_block1_0_conv[0][0]',    \n",
            "                                                                  'conv3_block1_3_conv[0][0]']    \n",
            "                                                                                                  \n",
            " conv3_block2_preact_bn (BatchN  (None, 28, 28, 512)  2048       ['conv3_block1_out[0][0]']       \n",
            " ormalization)                                                                                    \n",
            "                                                                                                  \n",
            " conv3_block2_preact_relu (Acti  (None, 28, 28, 512)  0          ['conv3_block2_preact_bn[0][0]'] \n",
            " vation)                                                                                          \n",
            "                                                                                                  \n",
            " conv3_block2_1_conv (Conv2D)   (None, 28, 28, 128)  65536       ['conv3_block2_preact_relu[0][0]'\n",
            "                                                                 ]                                \n",
            "                                                                                                  \n",
            " conv3_block2_1_bn (BatchNormal  (None, 28, 28, 128)  512        ['conv3_block2_1_conv[0][0]']    \n",
            " ization)                                                                                         \n",
            "                                                                                                  \n",
            " conv3_block2_1_relu (Activatio  (None, 28, 28, 128)  0          ['conv3_block2_1_bn[0][0]']      \n",
            " n)                                                                                               \n",
            "                                                                                                  \n",
            " conv3_block2_2_pad (ZeroPaddin  (None, 30, 30, 128)  0          ['conv3_block2_1_relu[0][0]']    \n",
            " g2D)                                                                                             \n",
            "                                                                                                  \n",
            " conv3_block2_2_conv (Conv2D)   (None, 28, 28, 128)  147456      ['conv3_block2_2_pad[0][0]']     \n",
            "                                                                                                  \n",
            " conv3_block2_2_bn (BatchNormal  (None, 28, 28, 128)  512        ['conv3_block2_2_conv[0][0]']    \n",
            " ization)                                                                                         \n",
            "                                                                                                  \n",
            " conv3_block2_2_relu (Activatio  (None, 28, 28, 128)  0          ['conv3_block2_2_bn[0][0]']      \n",
            " n)                                                                                               \n",
            "                                                                                                  \n",
            " conv3_block2_3_conv (Conv2D)   (None, 28, 28, 512)  66048       ['conv3_block2_2_relu[0][0]']    \n",
            "                                                                                                  \n",
            " conv3_block2_out (Add)         (None, 28, 28, 512)  0           ['conv3_block1_out[0][0]',       \n",
            "                                                                  'conv3_block2_3_conv[0][0]']    \n",
            "                                                                                                  \n",
            " conv3_block3_preact_bn (BatchN  (None, 28, 28, 512)  2048       ['conv3_block2_out[0][0]']       \n",
            " ormalization)                                                                                    \n",
            "                                                                                                  \n",
            " conv3_block3_preact_relu (Acti  (None, 28, 28, 512)  0          ['conv3_block3_preact_bn[0][0]'] \n",
            " vation)                                                                                          \n",
            "                                                                                                  \n",
            " conv3_block3_1_conv (Conv2D)   (None, 28, 28, 128)  65536       ['conv3_block3_preact_relu[0][0]'\n",
            "                                                                 ]                                \n",
            "                                                                                                  \n",
            " conv3_block3_1_bn (BatchNormal  (None, 28, 28, 128)  512        ['conv3_block3_1_conv[0][0]']    \n",
            " ization)                                                                                         \n",
            "                                                                                                  \n",
            " conv3_block3_1_relu (Activatio  (None, 28, 28, 128)  0          ['conv3_block3_1_bn[0][0]']      \n",
            " n)                                                                                               \n",
            "                                                                                                  \n",
            " conv3_block3_2_pad (ZeroPaddin  (None, 30, 30, 128)  0          ['conv3_block3_1_relu[0][0]']    \n",
            " g2D)                                                                                             \n",
            "                                                                                                  \n",
            " conv3_block3_2_conv (Conv2D)   (None, 28, 28, 128)  147456      ['conv3_block3_2_pad[0][0]']     \n",
            "                                                                                                  \n",
            " conv3_block3_2_bn (BatchNormal  (None, 28, 28, 128)  512        ['conv3_block3_2_conv[0][0]']    \n",
            " ization)                                                                                         \n",
            "                                                                                                  \n",
            " conv3_block3_2_relu (Activatio  (None, 28, 28, 128)  0          ['conv3_block3_2_bn[0][0]']      \n",
            " n)                                                                                               \n",
            "                                                                                                  \n",
            " conv3_block3_3_conv (Conv2D)   (None, 28, 28, 512)  66048       ['conv3_block3_2_relu[0][0]']    \n",
            "                                                                                                  \n",
            " conv3_block3_out (Add)         (None, 28, 28, 512)  0           ['conv3_block2_out[0][0]',       \n",
            "                                                                  'conv3_block3_3_conv[0][0]']    \n",
            "                                                                                                  \n",
            " conv3_block4_preact_bn (BatchN  (None, 28, 28, 512)  2048       ['conv3_block3_out[0][0]']       \n",
            " ormalization)                                                                                    \n",
            "                                                                                                  \n",
            " conv3_block4_preact_relu (Acti  (None, 28, 28, 512)  0          ['conv3_block4_preact_bn[0][0]'] \n",
            " vation)                                                                                          \n",
            "                                                                                                  \n",
            " conv3_block4_1_conv (Conv2D)   (None, 28, 28, 128)  65536       ['conv3_block4_preact_relu[0][0]'\n",
            "                                                                 ]                                \n",
            "                                                                                                  \n",
            " conv3_block4_1_bn (BatchNormal  (None, 28, 28, 128)  512        ['conv3_block4_1_conv[0][0]']    \n",
            " ization)                                                                                         \n",
            "                                                                                                  \n",
            " conv3_block4_1_relu (Activatio  (None, 28, 28, 128)  0          ['conv3_block4_1_bn[0][0]']      \n",
            " n)                                                                                               \n",
            "                                                                                                  \n",
            " conv3_block4_2_pad (ZeroPaddin  (None, 30, 30, 128)  0          ['conv3_block4_1_relu[0][0]']    \n",
            " g2D)                                                                                             \n",
            "                                                                                                  \n",
            " conv3_block4_2_conv (Conv2D)   (None, 28, 28, 128)  147456      ['conv3_block4_2_pad[0][0]']     \n",
            "                                                                                                  \n",
            " conv3_block4_2_bn (BatchNormal  (None, 28, 28, 128)  512        ['conv3_block4_2_conv[0][0]']    \n",
            " ization)                                                                                         \n",
            "                                                                                                  \n",
            " conv3_block4_2_relu (Activatio  (None, 28, 28, 128)  0          ['conv3_block4_2_bn[0][0]']      \n",
            " n)                                                                                               \n",
            "                                                                                                  \n",
            " conv3_block4_3_conv (Conv2D)   (None, 28, 28, 512)  66048       ['conv3_block4_2_relu[0][0]']    \n",
            "                                                                                                  \n",
            " conv3_block4_out (Add)         (None, 28, 28, 512)  0           ['conv3_block3_out[0][0]',       \n",
            "                                                                  'conv3_block4_3_conv[0][0]']    \n",
            "                                                                                                  \n",
            " conv3_block5_preact_bn (BatchN  (None, 28, 28, 512)  2048       ['conv3_block4_out[0][0]']       \n",
            " ormalization)                                                                                    \n",
            "                                                                                                  \n",
            " conv3_block5_preact_relu (Acti  (None, 28, 28, 512)  0          ['conv3_block5_preact_bn[0][0]'] \n",
            " vation)                                                                                          \n",
            "                                                                                                  \n",
            " conv3_block5_1_conv (Conv2D)   (None, 28, 28, 128)  65536       ['conv3_block5_preact_relu[0][0]'\n",
            "                                                                 ]                                \n",
            "                                                                                                  \n",
            " conv3_block5_1_bn (BatchNormal  (None, 28, 28, 128)  512        ['conv3_block5_1_conv[0][0]']    \n",
            " ization)                                                                                         \n",
            "                                                                                                  \n",
            " conv3_block5_1_relu (Activatio  (None, 28, 28, 128)  0          ['conv3_block5_1_bn[0][0]']      \n",
            " n)                                                                                               \n",
            "                                                                                                  \n",
            " conv3_block5_2_pad (ZeroPaddin  (None, 30, 30, 128)  0          ['conv3_block5_1_relu[0][0]']    \n",
            " g2D)                                                                                             \n",
            "                                                                                                  \n",
            " conv3_block5_2_conv (Conv2D)   (None, 28, 28, 128)  147456      ['conv3_block5_2_pad[0][0]']     \n",
            "                                                                                                  \n",
            " conv3_block5_2_bn (BatchNormal  (None, 28, 28, 128)  512        ['conv3_block5_2_conv[0][0]']    \n",
            " ization)                                                                                         \n",
            "                                                                                                  \n",
            " conv3_block5_2_relu (Activatio  (None, 28, 28, 128)  0          ['conv3_block5_2_bn[0][0]']      \n",
            " n)                                                                                               \n",
            "                                                                                                  \n",
            " conv3_block5_3_conv (Conv2D)   (None, 28, 28, 512)  66048       ['conv3_block5_2_relu[0][0]']    \n",
            "                                                                                                  \n",
            " conv3_block5_out (Add)         (None, 28, 28, 512)  0           ['conv3_block4_out[0][0]',       \n",
            "                                                                  'conv3_block5_3_conv[0][0]']    \n",
            "                                                                                                  \n",
            " conv3_block6_preact_bn (BatchN  (None, 28, 28, 512)  2048       ['conv3_block5_out[0][0]']       \n",
            " ormalization)                                                                                    \n",
            "                                                                                                  \n",
            " conv3_block6_preact_relu (Acti  (None, 28, 28, 512)  0          ['conv3_block6_preact_bn[0][0]'] \n",
            " vation)                                                                                          \n",
            "                                                                                                  \n",
            " conv3_block6_1_conv (Conv2D)   (None, 28, 28, 128)  65536       ['conv3_block6_preact_relu[0][0]'\n",
            "                                                                 ]                                \n",
            "                                                                                                  \n",
            " conv3_block6_1_bn (BatchNormal  (None, 28, 28, 128)  512        ['conv3_block6_1_conv[0][0]']    \n",
            " ization)                                                                                         \n",
            "                                                                                                  \n",
            " conv3_block6_1_relu (Activatio  (None, 28, 28, 128)  0          ['conv3_block6_1_bn[0][0]']      \n",
            " n)                                                                                               \n",
            "                                                                                                  \n",
            " conv3_block6_2_pad (ZeroPaddin  (None, 30, 30, 128)  0          ['conv3_block6_1_relu[0][0]']    \n",
            " g2D)                                                                                             \n",
            "                                                                                                  \n",
            " conv3_block6_2_conv (Conv2D)   (None, 28, 28, 128)  147456      ['conv3_block6_2_pad[0][0]']     \n",
            "                                                                                                  \n",
            " conv3_block6_2_bn (BatchNormal  (None, 28, 28, 128)  512        ['conv3_block6_2_conv[0][0]']    \n",
            " ization)                                                                                         \n",
            "                                                                                                  \n",
            " conv3_block6_2_relu (Activatio  (None, 28, 28, 128)  0          ['conv3_block6_2_bn[0][0]']      \n",
            " n)                                                                                               \n",
            "                                                                                                  \n",
            " conv3_block6_3_conv (Conv2D)   (None, 28, 28, 512)  66048       ['conv3_block6_2_relu[0][0]']    \n",
            "                                                                                                  \n",
            " conv3_block6_out (Add)         (None, 28, 28, 512)  0           ['conv3_block5_out[0][0]',       \n",
            "                                                                  'conv3_block6_3_conv[0][0]']    \n",
            "                                                                                                  \n",
            " conv3_block7_preact_bn (BatchN  (None, 28, 28, 512)  2048       ['conv3_block6_out[0][0]']       \n",
            " ormalization)                                                                                    \n",
            "                                                                                                  \n",
            " conv3_block7_preact_relu (Acti  (None, 28, 28, 512)  0          ['conv3_block7_preact_bn[0][0]'] \n",
            " vation)                                                                                          \n",
            "                                                                                                  \n",
            " conv3_block7_1_conv (Conv2D)   (None, 28, 28, 128)  65536       ['conv3_block7_preact_relu[0][0]'\n",
            "                                                                 ]                                \n",
            "                                                                                                  \n",
            " conv3_block7_1_bn (BatchNormal  (None, 28, 28, 128)  512        ['conv3_block7_1_conv[0][0]']    \n",
            " ization)                                                                                         \n",
            "                                                                                                  \n",
            " conv3_block7_1_relu (Activatio  (None, 28, 28, 128)  0          ['conv3_block7_1_bn[0][0]']      \n",
            " n)                                                                                               \n",
            "                                                                                                  \n",
            " conv3_block7_2_pad (ZeroPaddin  (None, 30, 30, 128)  0          ['conv3_block7_1_relu[0][0]']    \n",
            " g2D)                                                                                             \n",
            "                                                                                                  \n",
            " conv3_block7_2_conv (Conv2D)   (None, 28, 28, 128)  147456      ['conv3_block7_2_pad[0][0]']     \n",
            "                                                                                                  \n",
            " conv3_block7_2_bn (BatchNormal  (None, 28, 28, 128)  512        ['conv3_block7_2_conv[0][0]']    \n",
            " ization)                                                                                         \n",
            "                                                                                                  \n",
            " conv3_block7_2_relu (Activatio  (None, 28, 28, 128)  0          ['conv3_block7_2_bn[0][0]']      \n",
            " n)                                                                                               \n",
            "                                                                                                  \n",
            " conv3_block7_3_conv (Conv2D)   (None, 28, 28, 512)  66048       ['conv3_block7_2_relu[0][0]']    \n",
            "                                                                                                  \n",
            " conv3_block7_out (Add)         (None, 28, 28, 512)  0           ['conv3_block6_out[0][0]',       \n",
            "                                                                  'conv3_block7_3_conv[0][0]']    \n",
            "                                                                                                  \n",
            " conv3_block8_preact_bn (BatchN  (None, 28, 28, 512)  2048       ['conv3_block7_out[0][0]']       \n",
            " ormalization)                                                                                    \n",
            "                                                                                                  \n",
            " conv3_block8_preact_relu (Acti  (None, 28, 28, 512)  0          ['conv3_block8_preact_bn[0][0]'] \n",
            " vation)                                                                                          \n",
            "                                                                                                  \n",
            " conv3_block8_1_conv (Conv2D)   (None, 28, 28, 128)  65536       ['conv3_block8_preact_relu[0][0]'\n",
            "                                                                 ]                                \n",
            "                                                                                                  \n",
            " conv3_block8_1_bn (BatchNormal  (None, 28, 28, 128)  512        ['conv3_block8_1_conv[0][0]']    \n",
            " ization)                                                                                         \n",
            "                                                                                                  \n",
            " conv3_block8_1_relu (Activatio  (None, 28, 28, 128)  0          ['conv3_block8_1_bn[0][0]']      \n",
            " n)                                                                                               \n",
            "                                                                                                  \n",
            " conv3_block8_2_pad (ZeroPaddin  (None, 30, 30, 128)  0          ['conv3_block8_1_relu[0][0]']    \n",
            " g2D)                                                                                             \n",
            "                                                                                                  \n",
            " conv3_block8_2_conv (Conv2D)   (None, 14, 14, 128)  147456      ['conv3_block8_2_pad[0][0]']     \n",
            "                                                                                                  \n",
            " conv3_block8_2_bn (BatchNormal  (None, 14, 14, 128)  512        ['conv3_block8_2_conv[0][0]']    \n",
            " ization)                                                                                         \n",
            "                                                                                                  \n",
            " conv3_block8_2_relu (Activatio  (None, 14, 14, 128)  0          ['conv3_block8_2_bn[0][0]']      \n",
            " n)                                                                                               \n",
            "                                                                                                  \n",
            " max_pooling2d_1 (MaxPooling2D)  (None, 14, 14, 512)  0          ['conv3_block7_out[0][0]']       \n",
            "                                                                                                  \n",
            " conv3_block8_3_conv (Conv2D)   (None, 14, 14, 512)  66048       ['conv3_block8_2_relu[0][0]']    \n",
            "                                                                                                  \n",
            " conv3_block8_out (Add)         (None, 14, 14, 512)  0           ['max_pooling2d_1[0][0]',        \n",
            "                                                                  'conv3_block8_3_conv[0][0]']    \n",
            "                                                                                                  \n",
            " conv4_block1_preact_bn (BatchN  (None, 14, 14, 512)  2048       ['conv3_block8_out[0][0]']       \n",
            " ormalization)                                                                                    \n",
            "                                                                                                  \n",
            " conv4_block1_preact_relu (Acti  (None, 14, 14, 512)  0          ['conv4_block1_preact_bn[0][0]'] \n",
            " vation)                                                                                          \n",
            "                                                                                                  \n",
            " conv4_block1_1_conv (Conv2D)   (None, 14, 14, 256)  131072      ['conv4_block1_preact_relu[0][0]'\n",
            "                                                                 ]                                \n",
            "                                                                                                  \n",
            " conv4_block1_1_bn (BatchNormal  (None, 14, 14, 256)  1024       ['conv4_block1_1_conv[0][0]']    \n",
            " ization)                                                                                         \n",
            "                                                                                                  \n",
            " conv4_block1_1_relu (Activatio  (None, 14, 14, 256)  0          ['conv4_block1_1_bn[0][0]']      \n",
            " n)                                                                                               \n",
            "                                                                                                  \n",
            " conv4_block1_2_pad (ZeroPaddin  (None, 16, 16, 256)  0          ['conv4_block1_1_relu[0][0]']    \n",
            " g2D)                                                                                             \n",
            "                                                                                                  \n",
            " conv4_block1_2_conv (Conv2D)   (None, 14, 14, 256)  589824      ['conv4_block1_2_pad[0][0]']     \n",
            "                                                                                                  \n",
            " conv4_block1_2_bn (BatchNormal  (None, 14, 14, 256)  1024       ['conv4_block1_2_conv[0][0]']    \n",
            " ization)                                                                                         \n",
            "                                                                                                  \n",
            " conv4_block1_2_relu (Activatio  (None, 14, 14, 256)  0          ['conv4_block1_2_bn[0][0]']      \n",
            " n)                                                                                               \n",
            "                                                                                                  \n",
            " conv4_block1_0_conv (Conv2D)   (None, 14, 14, 1024  525312      ['conv4_block1_preact_relu[0][0]'\n",
            "                                )                                ]                                \n",
            "                                                                                                  \n",
            " conv4_block1_3_conv (Conv2D)   (None, 14, 14, 1024  263168      ['conv4_block1_2_relu[0][0]']    \n",
            "                                )                                                                 \n",
            "                                                                                                  \n",
            " conv4_block1_out (Add)         (None, 14, 14, 1024  0           ['conv4_block1_0_conv[0][0]',    \n",
            "                                )                                 'conv4_block1_3_conv[0][0]']    \n",
            "                                                                                                  \n",
            " conv4_block2_preact_bn (BatchN  (None, 14, 14, 1024  4096       ['conv4_block1_out[0][0]']       \n",
            " ormalization)                  )                                                                 \n",
            "                                                                                                  \n",
            " conv4_block2_preact_relu (Acti  (None, 14, 14, 1024  0          ['conv4_block2_preact_bn[0][0]'] \n",
            " vation)                        )                                                                 \n",
            "                                                                                                  \n",
            " conv4_block2_1_conv (Conv2D)   (None, 14, 14, 256)  262144      ['conv4_block2_preact_relu[0][0]'\n",
            "                                                                 ]                                \n",
            "                                                                                                  \n",
            " conv4_block2_1_bn (BatchNormal  (None, 14, 14, 256)  1024       ['conv4_block2_1_conv[0][0]']    \n",
            " ization)                                                                                         \n",
            "                                                                                                  \n",
            " conv4_block2_1_relu (Activatio  (None, 14, 14, 256)  0          ['conv4_block2_1_bn[0][0]']      \n",
            " n)                                                                                               \n",
            "                                                                                                  \n",
            " conv4_block2_2_pad (ZeroPaddin  (None, 16, 16, 256)  0          ['conv4_block2_1_relu[0][0]']    \n",
            " g2D)                                                                                             \n",
            "                                                                                                  \n",
            " conv4_block2_2_conv (Conv2D)   (None, 14, 14, 256)  589824      ['conv4_block2_2_pad[0][0]']     \n",
            "                                                                                                  \n",
            " conv4_block2_2_bn (BatchNormal  (None, 14, 14, 256)  1024       ['conv4_block2_2_conv[0][0]']    \n",
            " ization)                                                                                         \n",
            "                                                                                                  \n",
            " conv4_block2_2_relu (Activatio  (None, 14, 14, 256)  0          ['conv4_block2_2_bn[0][0]']      \n",
            " n)                                                                                               \n",
            "                                                                                                  \n",
            " conv4_block2_3_conv (Conv2D)   (None, 14, 14, 1024  263168      ['conv4_block2_2_relu[0][0]']    \n",
            "                                )                                                                 \n",
            "                                                                                                  \n",
            " conv4_block2_out (Add)         (None, 14, 14, 1024  0           ['conv4_block1_out[0][0]',       \n",
            "                                )                                 'conv4_block2_3_conv[0][0]']    \n",
            "                                                                                                  \n",
            " conv4_block3_preact_bn (BatchN  (None, 14, 14, 1024  4096       ['conv4_block2_out[0][0]']       \n",
            " ormalization)                  )                                                                 \n",
            "                                                                                                  \n",
            " conv4_block3_preact_relu (Acti  (None, 14, 14, 1024  0          ['conv4_block3_preact_bn[0][0]'] \n",
            " vation)                        )                                                                 \n",
            "                                                                                                  \n",
            " conv4_block3_1_conv (Conv2D)   (None, 14, 14, 256)  262144      ['conv4_block3_preact_relu[0][0]'\n",
            "                                                                 ]                                \n",
            "                                                                                                  \n",
            " conv4_block3_1_bn (BatchNormal  (None, 14, 14, 256)  1024       ['conv4_block3_1_conv[0][0]']    \n",
            " ization)                                                                                         \n",
            "                                                                                                  \n",
            " conv4_block3_1_relu (Activatio  (None, 14, 14, 256)  0          ['conv4_block3_1_bn[0][0]']      \n",
            " n)                                                                                               \n",
            "                                                                                                  \n",
            " conv4_block3_2_pad (ZeroPaddin  (None, 16, 16, 256)  0          ['conv4_block3_1_relu[0][0]']    \n",
            " g2D)                                                                                             \n",
            "                                                                                                  \n",
            " conv4_block3_2_conv (Conv2D)   (None, 14, 14, 256)  589824      ['conv4_block3_2_pad[0][0]']     \n",
            "                                                                                                  \n",
            " conv4_block3_2_bn (BatchNormal  (None, 14, 14, 256)  1024       ['conv4_block3_2_conv[0][0]']    \n",
            " ization)                                                                                         \n",
            "                                                                                                  \n",
            " conv4_block3_2_relu (Activatio  (None, 14, 14, 256)  0          ['conv4_block3_2_bn[0][0]']      \n",
            " n)                                                                                               \n",
            "                                                                                                  \n",
            " conv4_block3_3_conv (Conv2D)   (None, 14, 14, 1024  263168      ['conv4_block3_2_relu[0][0]']    \n",
            "                                )                                                                 \n",
            "                                                                                                  \n",
            " conv4_block3_out (Add)         (None, 14, 14, 1024  0           ['conv4_block2_out[0][0]',       \n",
            "                                )                                 'conv4_block3_3_conv[0][0]']    \n",
            "                                                                                                  \n",
            " conv4_block4_preact_bn (BatchN  (None, 14, 14, 1024  4096       ['conv4_block3_out[0][0]']       \n",
            " ormalization)                  )                                                                 \n",
            "                                                                                                  \n",
            " conv4_block4_preact_relu (Acti  (None, 14, 14, 1024  0          ['conv4_block4_preact_bn[0][0]'] \n",
            " vation)                        )                                                                 \n",
            "                                                                                                  \n",
            " conv4_block4_1_conv (Conv2D)   (None, 14, 14, 256)  262144      ['conv4_block4_preact_relu[0][0]'\n",
            "                                                                 ]                                \n",
            "                                                                                                  \n",
            " conv4_block4_1_bn (BatchNormal  (None, 14, 14, 256)  1024       ['conv4_block4_1_conv[0][0]']    \n",
            " ization)                                                                                         \n",
            "                                                                                                  \n",
            " conv4_block4_1_relu (Activatio  (None, 14, 14, 256)  0          ['conv4_block4_1_bn[0][0]']      \n",
            " n)                                                                                               \n",
            "                                                                                                  \n",
            " conv4_block4_2_pad (ZeroPaddin  (None, 16, 16, 256)  0          ['conv4_block4_1_relu[0][0]']    \n",
            " g2D)                                                                                             \n",
            "                                                                                                  \n",
            " conv4_block4_2_conv (Conv2D)   (None, 14, 14, 256)  589824      ['conv4_block4_2_pad[0][0]']     \n",
            "                                                                                                  \n",
            " conv4_block4_2_bn (BatchNormal  (None, 14, 14, 256)  1024       ['conv4_block4_2_conv[0][0]']    \n",
            " ization)                                                                                         \n",
            "                                                                                                  \n",
            " conv4_block4_2_relu (Activatio  (None, 14, 14, 256)  0          ['conv4_block4_2_bn[0][0]']      \n",
            " n)                                                                                               \n",
            "                                                                                                  \n",
            " conv4_block4_3_conv (Conv2D)   (None, 14, 14, 1024  263168      ['conv4_block4_2_relu[0][0]']    \n",
            "                                )                                                                 \n",
            "                                                                                                  \n",
            " conv4_block4_out (Add)         (None, 14, 14, 1024  0           ['conv4_block3_out[0][0]',       \n",
            "                                )                                 'conv4_block4_3_conv[0][0]']    \n",
            "                                                                                                  \n",
            " conv4_block5_preact_bn (BatchN  (None, 14, 14, 1024  4096       ['conv4_block4_out[0][0]']       \n",
            " ormalization)                  )                                                                 \n",
            "                                                                                                  \n",
            " conv4_block5_preact_relu (Acti  (None, 14, 14, 1024  0          ['conv4_block5_preact_bn[0][0]'] \n",
            " vation)                        )                                                                 \n",
            "                                                                                                  \n",
            " conv4_block5_1_conv (Conv2D)   (None, 14, 14, 256)  262144      ['conv4_block5_preact_relu[0][0]'\n",
            "                                                                 ]                                \n",
            "                                                                                                  \n",
            " conv4_block5_1_bn (BatchNormal  (None, 14, 14, 256)  1024       ['conv4_block5_1_conv[0][0]']    \n",
            " ization)                                                                                         \n",
            "                                                                                                  \n",
            " conv4_block5_1_relu (Activatio  (None, 14, 14, 256)  0          ['conv4_block5_1_bn[0][0]']      \n",
            " n)                                                                                               \n",
            "                                                                                                  \n",
            " conv4_block5_2_pad (ZeroPaddin  (None, 16, 16, 256)  0          ['conv4_block5_1_relu[0][0]']    \n",
            " g2D)                                                                                             \n",
            "                                                                                                  \n",
            " conv4_block5_2_conv (Conv2D)   (None, 14, 14, 256)  589824      ['conv4_block5_2_pad[0][0]']     \n",
            "                                                                                                  \n",
            " conv4_block5_2_bn (BatchNormal  (None, 14, 14, 256)  1024       ['conv4_block5_2_conv[0][0]']    \n",
            " ization)                                                                                         \n",
            "                                                                                                  \n",
            " conv4_block5_2_relu (Activatio  (None, 14, 14, 256)  0          ['conv4_block5_2_bn[0][0]']      \n",
            " n)                                                                                               \n",
            "                                                                                                  \n",
            " conv4_block5_3_conv (Conv2D)   (None, 14, 14, 1024  263168      ['conv4_block5_2_relu[0][0]']    \n",
            "                                )                                                                 \n",
            "                                                                                                  \n",
            " conv4_block5_out (Add)         (None, 14, 14, 1024  0           ['conv4_block4_out[0][0]',       \n",
            "                                )                                 'conv4_block5_3_conv[0][0]']    \n",
            "                                                                                                  \n",
            " conv4_block6_preact_bn (BatchN  (None, 14, 14, 1024  4096       ['conv4_block5_out[0][0]']       \n",
            " ormalization)                  )                                                                 \n",
            "                                                                                                  \n",
            " conv4_block6_preact_relu (Acti  (None, 14, 14, 1024  0          ['conv4_block6_preact_bn[0][0]'] \n",
            " vation)                        )                                                                 \n",
            "                                                                                                  \n",
            " conv4_block6_1_conv (Conv2D)   (None, 14, 14, 256)  262144      ['conv4_block6_preact_relu[0][0]'\n",
            "                                                                 ]                                \n",
            "                                                                                                  \n",
            " conv4_block6_1_bn (BatchNormal  (None, 14, 14, 256)  1024       ['conv4_block6_1_conv[0][0]']    \n",
            " ization)                                                                                         \n",
            "                                                                                                  \n",
            " conv4_block6_1_relu (Activatio  (None, 14, 14, 256)  0          ['conv4_block6_1_bn[0][0]']      \n",
            " n)                                                                                               \n",
            "                                                                                                  \n",
            " conv4_block6_2_pad (ZeroPaddin  (None, 16, 16, 256)  0          ['conv4_block6_1_relu[0][0]']    \n",
            " g2D)                                                                                             \n",
            "                                                                                                  \n",
            " conv4_block6_2_conv (Conv2D)   (None, 14, 14, 256)  589824      ['conv4_block6_2_pad[0][0]']     \n",
            "                                                                                                  \n",
            " conv4_block6_2_bn (BatchNormal  (None, 14, 14, 256)  1024       ['conv4_block6_2_conv[0][0]']    \n",
            " ization)                                                                                         \n",
            "                                                                                                  \n",
            " conv4_block6_2_relu (Activatio  (None, 14, 14, 256)  0          ['conv4_block6_2_bn[0][0]']      \n",
            " n)                                                                                               \n",
            "                                                                                                  \n",
            " conv4_block6_3_conv (Conv2D)   (None, 14, 14, 1024  263168      ['conv4_block6_2_relu[0][0]']    \n",
            "                                )                                                                 \n",
            "                                                                                                  \n",
            " conv4_block6_out (Add)         (None, 14, 14, 1024  0           ['conv4_block5_out[0][0]',       \n",
            "                                )                                 'conv4_block6_3_conv[0][0]']    \n",
            "                                                                                                  \n",
            " conv4_block7_preact_bn (BatchN  (None, 14, 14, 1024  4096       ['conv4_block6_out[0][0]']       \n",
            " ormalization)                  )                                                                 \n",
            "                                                                                                  \n",
            " conv4_block7_preact_relu (Acti  (None, 14, 14, 1024  0          ['conv4_block7_preact_bn[0][0]'] \n",
            " vation)                        )                                                                 \n",
            "                                                                                                  \n",
            " conv4_block7_1_conv (Conv2D)   (None, 14, 14, 256)  262144      ['conv4_block7_preact_relu[0][0]'\n",
            "                                                                 ]                                \n",
            "                                                                                                  \n",
            " conv4_block7_1_bn (BatchNormal  (None, 14, 14, 256)  1024       ['conv4_block7_1_conv[0][0]']    \n",
            " ization)                                                                                         \n",
            "                                                                                                  \n",
            " conv4_block7_1_relu (Activatio  (None, 14, 14, 256)  0          ['conv4_block7_1_bn[0][0]']      \n",
            " n)                                                                                               \n",
            "                                                                                                  \n",
            " conv4_block7_2_pad (ZeroPaddin  (None, 16, 16, 256)  0          ['conv4_block7_1_relu[0][0]']    \n",
            " g2D)                                                                                             \n",
            "                                                                                                  \n",
            " conv4_block7_2_conv (Conv2D)   (None, 14, 14, 256)  589824      ['conv4_block7_2_pad[0][0]']     \n",
            "                                                                                                  \n",
            " conv4_block7_2_bn (BatchNormal  (None, 14, 14, 256)  1024       ['conv4_block7_2_conv[0][0]']    \n",
            " ization)                                                                                         \n",
            "                                                                                                  \n",
            " conv4_block7_2_relu (Activatio  (None, 14, 14, 256)  0          ['conv4_block7_2_bn[0][0]']      \n",
            " n)                                                                                               \n",
            "                                                                                                  \n",
            " conv4_block7_3_conv (Conv2D)   (None, 14, 14, 1024  263168      ['conv4_block7_2_relu[0][0]']    \n",
            "                                )                                                                 \n",
            "                                                                                                  \n",
            " conv4_block7_out (Add)         (None, 14, 14, 1024  0           ['conv4_block6_out[0][0]',       \n",
            "                                )                                 'conv4_block7_3_conv[0][0]']    \n",
            "                                                                                                  \n",
            " conv4_block8_preact_bn (BatchN  (None, 14, 14, 1024  4096       ['conv4_block7_out[0][0]']       \n",
            " ormalization)                  )                                                                 \n",
            "                                                                                                  \n",
            " conv4_block8_preact_relu (Acti  (None, 14, 14, 1024  0          ['conv4_block8_preact_bn[0][0]'] \n",
            " vation)                        )                                                                 \n",
            "                                                                                                  \n",
            " conv4_block8_1_conv (Conv2D)   (None, 14, 14, 256)  262144      ['conv4_block8_preact_relu[0][0]'\n",
            "                                                                 ]                                \n",
            "                                                                                                  \n",
            " conv4_block8_1_bn (BatchNormal  (None, 14, 14, 256)  1024       ['conv4_block8_1_conv[0][0]']    \n",
            " ization)                                                                                         \n",
            "                                                                                                  \n",
            " conv4_block8_1_relu (Activatio  (None, 14, 14, 256)  0          ['conv4_block8_1_bn[0][0]']      \n",
            " n)                                                                                               \n",
            "                                                                                                  \n",
            " conv4_block8_2_pad (ZeroPaddin  (None, 16, 16, 256)  0          ['conv4_block8_1_relu[0][0]']    \n",
            " g2D)                                                                                             \n",
            "                                                                                                  \n",
            " conv4_block8_2_conv (Conv2D)   (None, 14, 14, 256)  589824      ['conv4_block8_2_pad[0][0]']     \n",
            "                                                                                                  \n",
            " conv4_block8_2_bn (BatchNormal  (None, 14, 14, 256)  1024       ['conv4_block8_2_conv[0][0]']    \n",
            " ization)                                                                                         \n",
            "                                                                                                  \n",
            " conv4_block8_2_relu (Activatio  (None, 14, 14, 256)  0          ['conv4_block8_2_bn[0][0]']      \n",
            " n)                                                                                               \n",
            "                                                                                                  \n",
            " conv4_block8_3_conv (Conv2D)   (None, 14, 14, 1024  263168      ['conv4_block8_2_relu[0][0]']    \n",
            "                                )                                                                 \n",
            "                                                                                                  \n",
            " conv4_block8_out (Add)         (None, 14, 14, 1024  0           ['conv4_block7_out[0][0]',       \n",
            "                                )                                 'conv4_block8_3_conv[0][0]']    \n",
            "                                                                                                  \n",
            " conv4_block9_preact_bn (BatchN  (None, 14, 14, 1024  4096       ['conv4_block8_out[0][0]']       \n",
            " ormalization)                  )                                                                 \n",
            "                                                                                                  \n",
            " conv4_block9_preact_relu (Acti  (None, 14, 14, 1024  0          ['conv4_block9_preact_bn[0][0]'] \n",
            " vation)                        )                                                                 \n",
            "                                                                                                  \n",
            " conv4_block9_1_conv (Conv2D)   (None, 14, 14, 256)  262144      ['conv4_block9_preact_relu[0][0]'\n",
            "                                                                 ]                                \n",
            "                                                                                                  \n",
            " conv4_block9_1_bn (BatchNormal  (None, 14, 14, 256)  1024       ['conv4_block9_1_conv[0][0]']    \n",
            " ization)                                                                                         \n",
            "                                                                                                  \n",
            " conv4_block9_1_relu (Activatio  (None, 14, 14, 256)  0          ['conv4_block9_1_bn[0][0]']      \n",
            " n)                                                                                               \n",
            "                                                                                                  \n",
            " conv4_block9_2_pad (ZeroPaddin  (None, 16, 16, 256)  0          ['conv4_block9_1_relu[0][0]']    \n",
            " g2D)                                                                                             \n",
            "                                                                                                  \n",
            " conv4_block9_2_conv (Conv2D)   (None, 14, 14, 256)  589824      ['conv4_block9_2_pad[0][0]']     \n",
            "                                                                                                  \n",
            " conv4_block9_2_bn (BatchNormal  (None, 14, 14, 256)  1024       ['conv4_block9_2_conv[0][0]']    \n",
            " ization)                                                                                         \n",
            "                                                                                                  \n",
            " conv4_block9_2_relu (Activatio  (None, 14, 14, 256)  0          ['conv4_block9_2_bn[0][0]']      \n",
            " n)                                                                                               \n",
            "                                                                                                  \n",
            " conv4_block9_3_conv (Conv2D)   (None, 14, 14, 1024  263168      ['conv4_block9_2_relu[0][0]']    \n",
            "                                )                                                                 \n",
            "                                                                                                  \n",
            " conv4_block9_out (Add)         (None, 14, 14, 1024  0           ['conv4_block8_out[0][0]',       \n",
            "                                )                                 'conv4_block9_3_conv[0][0]']    \n",
            "                                                                                                  \n",
            " conv4_block10_preact_bn (Batch  (None, 14, 14, 1024  4096       ['conv4_block9_out[0][0]']       \n",
            " Normalization)                 )                                                                 \n",
            "                                                                                                  \n",
            " conv4_block10_preact_relu (Act  (None, 14, 14, 1024  0          ['conv4_block10_preact_bn[0][0]']\n",
            " ivation)                       )                                                                 \n",
            "                                                                                                  \n",
            " conv4_block10_1_conv (Conv2D)  (None, 14, 14, 256)  262144      ['conv4_block10_preact_relu[0][0]\n",
            "                                                                 ']                               \n",
            "                                                                                                  \n",
            " conv4_block10_1_bn (BatchNorma  (None, 14, 14, 256)  1024       ['conv4_block10_1_conv[0][0]']   \n",
            " lization)                                                                                        \n",
            "                                                                                                  \n",
            " conv4_block10_1_relu (Activati  (None, 14, 14, 256)  0          ['conv4_block10_1_bn[0][0]']     \n",
            " on)                                                                                              \n",
            "                                                                                                  \n",
            " conv4_block10_2_pad (ZeroPaddi  (None, 16, 16, 256)  0          ['conv4_block10_1_relu[0][0]']   \n",
            " ng2D)                                                                                            \n",
            "                                                                                                  \n",
            " conv4_block10_2_conv (Conv2D)  (None, 14, 14, 256)  589824      ['conv4_block10_2_pad[0][0]']    \n",
            "                                                                                                  \n",
            " conv4_block10_2_bn (BatchNorma  (None, 14, 14, 256)  1024       ['conv4_block10_2_conv[0][0]']   \n",
            " lization)                                                                                        \n",
            "                                                                                                  \n",
            " conv4_block10_2_relu (Activati  (None, 14, 14, 256)  0          ['conv4_block10_2_bn[0][0]']     \n",
            " on)                                                                                              \n",
            "                                                                                                  \n",
            " conv4_block10_3_conv (Conv2D)  (None, 14, 14, 1024  263168      ['conv4_block10_2_relu[0][0]']   \n",
            "                                )                                                                 \n",
            "                                                                                                  \n",
            " conv4_block10_out (Add)        (None, 14, 14, 1024  0           ['conv4_block9_out[0][0]',       \n",
            "                                )                                 'conv4_block10_3_conv[0][0]']   \n",
            "                                                                                                  \n",
            " conv4_block11_preact_bn (Batch  (None, 14, 14, 1024  4096       ['conv4_block10_out[0][0]']      \n",
            " Normalization)                 )                                                                 \n",
            "                                                                                                  \n",
            " conv4_block11_preact_relu (Act  (None, 14, 14, 1024  0          ['conv4_block11_preact_bn[0][0]']\n",
            " ivation)                       )                                                                 \n",
            "                                                                                                  \n",
            " conv4_block11_1_conv (Conv2D)  (None, 14, 14, 256)  262144      ['conv4_block11_preact_relu[0][0]\n",
            "                                                                 ']                               \n",
            "                                                                                                  \n",
            " conv4_block11_1_bn (BatchNorma  (None, 14, 14, 256)  1024       ['conv4_block11_1_conv[0][0]']   \n",
            " lization)                                                                                        \n",
            "                                                                                                  \n",
            " conv4_block11_1_relu (Activati  (None, 14, 14, 256)  0          ['conv4_block11_1_bn[0][0]']     \n",
            " on)                                                                                              \n",
            "                                                                                                  \n",
            " conv4_block11_2_pad (ZeroPaddi  (None, 16, 16, 256)  0          ['conv4_block11_1_relu[0][0]']   \n",
            " ng2D)                                                                                            \n",
            "                                                                                                  \n",
            " conv4_block11_2_conv (Conv2D)  (None, 14, 14, 256)  589824      ['conv4_block11_2_pad[0][0]']    \n",
            "                                                                                                  \n",
            " conv4_block11_2_bn (BatchNorma  (None, 14, 14, 256)  1024       ['conv4_block11_2_conv[0][0]']   \n",
            " lization)                                                                                        \n",
            "                                                                                                  \n",
            " conv4_block11_2_relu (Activati  (None, 14, 14, 256)  0          ['conv4_block11_2_bn[0][0]']     \n",
            " on)                                                                                              \n",
            "                                                                                                  \n",
            " conv4_block11_3_conv (Conv2D)  (None, 14, 14, 1024  263168      ['conv4_block11_2_relu[0][0]']   \n",
            "                                )                                                                 \n",
            "                                                                                                  \n",
            " conv4_block11_out (Add)        (None, 14, 14, 1024  0           ['conv4_block10_out[0][0]',      \n",
            "                                )                                 'conv4_block11_3_conv[0][0]']   \n",
            "                                                                                                  \n",
            " conv4_block12_preact_bn (Batch  (None, 14, 14, 1024  4096       ['conv4_block11_out[0][0]']      \n",
            " Normalization)                 )                                                                 \n",
            "                                                                                                  \n",
            " conv4_block12_preact_relu (Act  (None, 14, 14, 1024  0          ['conv4_block12_preact_bn[0][0]']\n",
            " ivation)                       )                                                                 \n",
            "                                                                                                  \n",
            " conv4_block12_1_conv (Conv2D)  (None, 14, 14, 256)  262144      ['conv4_block12_preact_relu[0][0]\n",
            "                                                                 ']                               \n",
            "                                                                                                  \n",
            " conv4_block12_1_bn (BatchNorma  (None, 14, 14, 256)  1024       ['conv4_block12_1_conv[0][0]']   \n",
            " lization)                                                                                        \n",
            "                                                                                                  \n",
            " conv4_block12_1_relu (Activati  (None, 14, 14, 256)  0          ['conv4_block12_1_bn[0][0]']     \n",
            " on)                                                                                              \n",
            "                                                                                                  \n",
            " conv4_block12_2_pad (ZeroPaddi  (None, 16, 16, 256)  0          ['conv4_block12_1_relu[0][0]']   \n",
            " ng2D)                                                                                            \n",
            "                                                                                                  \n",
            " conv4_block12_2_conv (Conv2D)  (None, 14, 14, 256)  589824      ['conv4_block12_2_pad[0][0]']    \n",
            "                                                                                                  \n",
            " conv4_block12_2_bn (BatchNorma  (None, 14, 14, 256)  1024       ['conv4_block12_2_conv[0][0]']   \n",
            " lization)                                                                                        \n",
            "                                                                                                  \n",
            " conv4_block12_2_relu (Activati  (None, 14, 14, 256)  0          ['conv4_block12_2_bn[0][0]']     \n",
            " on)                                                                                              \n",
            "                                                                                                  \n",
            " conv4_block12_3_conv (Conv2D)  (None, 14, 14, 1024  263168      ['conv4_block12_2_relu[0][0]']   \n",
            "                                )                                                                 \n",
            "                                                                                                  \n",
            " conv4_block12_out (Add)        (None, 14, 14, 1024  0           ['conv4_block11_out[0][0]',      \n",
            "                                )                                 'conv4_block12_3_conv[0][0]']   \n",
            "                                                                                                  \n",
            " conv4_block13_preact_bn (Batch  (None, 14, 14, 1024  4096       ['conv4_block12_out[0][0]']      \n",
            " Normalization)                 )                                                                 \n",
            "                                                                                                  \n",
            " conv4_block13_preact_relu (Act  (None, 14, 14, 1024  0          ['conv4_block13_preact_bn[0][0]']\n",
            " ivation)                       )                                                                 \n",
            "                                                                                                  \n",
            " conv4_block13_1_conv (Conv2D)  (None, 14, 14, 256)  262144      ['conv4_block13_preact_relu[0][0]\n",
            "                                                                 ']                               \n",
            "                                                                                                  \n",
            " conv4_block13_1_bn (BatchNorma  (None, 14, 14, 256)  1024       ['conv4_block13_1_conv[0][0]']   \n",
            " lization)                                                                                        \n",
            "                                                                                                  \n",
            " conv4_block13_1_relu (Activati  (None, 14, 14, 256)  0          ['conv4_block13_1_bn[0][0]']     \n",
            " on)                                                                                              \n",
            "                                                                                                  \n",
            " conv4_block13_2_pad (ZeroPaddi  (None, 16, 16, 256)  0          ['conv4_block13_1_relu[0][0]']   \n",
            " ng2D)                                                                                            \n",
            "                                                                                                  \n",
            " conv4_block13_2_conv (Conv2D)  (None, 14, 14, 256)  589824      ['conv4_block13_2_pad[0][0]']    \n",
            "                                                                                                  \n",
            " conv4_block13_2_bn (BatchNorma  (None, 14, 14, 256)  1024       ['conv4_block13_2_conv[0][0]']   \n",
            " lization)                                                                                        \n",
            "                                                                                                  \n",
            " conv4_block13_2_relu (Activati  (None, 14, 14, 256)  0          ['conv4_block13_2_bn[0][0]']     \n",
            " on)                                                                                              \n",
            "                                                                                                  \n",
            " conv4_block13_3_conv (Conv2D)  (None, 14, 14, 1024  263168      ['conv4_block13_2_relu[0][0]']   \n",
            "                                )                                                                 \n",
            "                                                                                                  \n",
            " conv4_block13_out (Add)        (None, 14, 14, 1024  0           ['conv4_block12_out[0][0]',      \n",
            "                                )                                 'conv4_block13_3_conv[0][0]']   \n",
            "                                                                                                  \n",
            " conv4_block14_preact_bn (Batch  (None, 14, 14, 1024  4096       ['conv4_block13_out[0][0]']      \n",
            " Normalization)                 )                                                                 \n",
            "                                                                                                  \n",
            " conv4_block14_preact_relu (Act  (None, 14, 14, 1024  0          ['conv4_block14_preact_bn[0][0]']\n",
            " ivation)                       )                                                                 \n",
            "                                                                                                  \n",
            " conv4_block14_1_conv (Conv2D)  (None, 14, 14, 256)  262144      ['conv4_block14_preact_relu[0][0]\n",
            "                                                                 ']                               \n",
            "                                                                                                  \n",
            " conv4_block14_1_bn (BatchNorma  (None, 14, 14, 256)  1024       ['conv4_block14_1_conv[0][0]']   \n",
            " lization)                                                                                        \n",
            "                                                                                                  \n",
            " conv4_block14_1_relu (Activati  (None, 14, 14, 256)  0          ['conv4_block14_1_bn[0][0]']     \n",
            " on)                                                                                              \n",
            "                                                                                                  \n",
            " conv4_block14_2_pad (ZeroPaddi  (None, 16, 16, 256)  0          ['conv4_block14_1_relu[0][0]']   \n",
            " ng2D)                                                                                            \n",
            "                                                                                                  \n",
            " conv4_block14_2_conv (Conv2D)  (None, 14, 14, 256)  589824      ['conv4_block14_2_pad[0][0]']    \n",
            "                                                                                                  \n",
            " conv4_block14_2_bn (BatchNorma  (None, 14, 14, 256)  1024       ['conv4_block14_2_conv[0][0]']   \n",
            " lization)                                                                                        \n",
            "                                                                                                  \n",
            " conv4_block14_2_relu (Activati  (None, 14, 14, 256)  0          ['conv4_block14_2_bn[0][0]']     \n",
            " on)                                                                                              \n",
            "                                                                                                  \n",
            " conv4_block14_3_conv (Conv2D)  (None, 14, 14, 1024  263168      ['conv4_block14_2_relu[0][0]']   \n",
            "                                )                                                                 \n",
            "                                                                                                  \n",
            " conv4_block14_out (Add)        (None, 14, 14, 1024  0           ['conv4_block13_out[0][0]',      \n",
            "                                )                                 'conv4_block14_3_conv[0][0]']   \n",
            "                                                                                                  \n",
            " conv4_block15_preact_bn (Batch  (None, 14, 14, 1024  4096       ['conv4_block14_out[0][0]']      \n",
            " Normalization)                 )                                                                 \n",
            "                                                                                                  \n",
            " conv4_block15_preact_relu (Act  (None, 14, 14, 1024  0          ['conv4_block15_preact_bn[0][0]']\n",
            " ivation)                       )                                                                 \n",
            "                                                                                                  \n",
            " conv4_block15_1_conv (Conv2D)  (None, 14, 14, 256)  262144      ['conv4_block15_preact_relu[0][0]\n",
            "                                                                 ']                               \n",
            "                                                                                                  \n",
            " conv4_block15_1_bn (BatchNorma  (None, 14, 14, 256)  1024       ['conv4_block15_1_conv[0][0]']   \n",
            " lization)                                                                                        \n",
            "                                                                                                  \n",
            " conv4_block15_1_relu (Activati  (None, 14, 14, 256)  0          ['conv4_block15_1_bn[0][0]']     \n",
            " on)                                                                                              \n",
            "                                                                                                  \n",
            " conv4_block15_2_pad (ZeroPaddi  (None, 16, 16, 256)  0          ['conv4_block15_1_relu[0][0]']   \n",
            " ng2D)                                                                                            \n",
            "                                                                                                  \n",
            " conv4_block15_2_conv (Conv2D)  (None, 14, 14, 256)  589824      ['conv4_block15_2_pad[0][0]']    \n",
            "                                                                                                  \n",
            " conv4_block15_2_bn (BatchNorma  (None, 14, 14, 256)  1024       ['conv4_block15_2_conv[0][0]']   \n",
            " lization)                                                                                        \n",
            "                                                                                                  \n",
            " conv4_block15_2_relu (Activati  (None, 14, 14, 256)  0          ['conv4_block15_2_bn[0][0]']     \n",
            " on)                                                                                              \n",
            "                                                                                                  \n",
            " conv4_block15_3_conv (Conv2D)  (None, 14, 14, 1024  263168      ['conv4_block15_2_relu[0][0]']   \n",
            "                                )                                                                 \n",
            "                                                                                                  \n",
            " conv4_block15_out (Add)        (None, 14, 14, 1024  0           ['conv4_block14_out[0][0]',      \n",
            "                                )                                 'conv4_block15_3_conv[0][0]']   \n",
            "                                                                                                  \n",
            " conv4_block16_preact_bn (Batch  (None, 14, 14, 1024  4096       ['conv4_block15_out[0][0]']      \n",
            " Normalization)                 )                                                                 \n",
            "                                                                                                  \n",
            " conv4_block16_preact_relu (Act  (None, 14, 14, 1024  0          ['conv4_block16_preact_bn[0][0]']\n",
            " ivation)                       )                                                                 \n",
            "                                                                                                  \n",
            " conv4_block16_1_conv (Conv2D)  (None, 14, 14, 256)  262144      ['conv4_block16_preact_relu[0][0]\n",
            "                                                                 ']                               \n",
            "                                                                                                  \n",
            " conv4_block16_1_bn (BatchNorma  (None, 14, 14, 256)  1024       ['conv4_block16_1_conv[0][0]']   \n",
            " lization)                                                                                        \n",
            "                                                                                                  \n",
            " conv4_block16_1_relu (Activati  (None, 14, 14, 256)  0          ['conv4_block16_1_bn[0][0]']     \n",
            " on)                                                                                              \n",
            "                                                                                                  \n",
            " conv4_block16_2_pad (ZeroPaddi  (None, 16, 16, 256)  0          ['conv4_block16_1_relu[0][0]']   \n",
            " ng2D)                                                                                            \n",
            "                                                                                                  \n",
            " conv4_block16_2_conv (Conv2D)  (None, 14, 14, 256)  589824      ['conv4_block16_2_pad[0][0]']    \n",
            "                                                                                                  \n",
            " conv4_block16_2_bn (BatchNorma  (None, 14, 14, 256)  1024       ['conv4_block16_2_conv[0][0]']   \n",
            " lization)                                                                                        \n",
            "                                                                                                  \n",
            " conv4_block16_2_relu (Activati  (None, 14, 14, 256)  0          ['conv4_block16_2_bn[0][0]']     \n",
            " on)                                                                                              \n",
            "                                                                                                  \n",
            " conv4_block16_3_conv (Conv2D)  (None, 14, 14, 1024  263168      ['conv4_block16_2_relu[0][0]']   \n",
            "                                )                                                                 \n",
            "                                                                                                  \n",
            " conv4_block16_out (Add)        (None, 14, 14, 1024  0           ['conv4_block15_out[0][0]',      \n",
            "                                )                                 'conv4_block16_3_conv[0][0]']   \n",
            "                                                                                                  \n",
            " conv4_block17_preact_bn (Batch  (None, 14, 14, 1024  4096       ['conv4_block16_out[0][0]']      \n",
            " Normalization)                 )                                                                 \n",
            "                                                                                                  \n",
            " conv4_block17_preact_relu (Act  (None, 14, 14, 1024  0          ['conv4_block17_preact_bn[0][0]']\n",
            " ivation)                       )                                                                 \n",
            "                                                                                                  \n",
            " conv4_block17_1_conv (Conv2D)  (None, 14, 14, 256)  262144      ['conv4_block17_preact_relu[0][0]\n",
            "                                                                 ']                               \n",
            "                                                                                                  \n",
            " conv4_block17_1_bn (BatchNorma  (None, 14, 14, 256)  1024       ['conv4_block17_1_conv[0][0]']   \n",
            " lization)                                                                                        \n",
            "                                                                                                  \n",
            " conv4_block17_1_relu (Activati  (None, 14, 14, 256)  0          ['conv4_block17_1_bn[0][0]']     \n",
            " on)                                                                                              \n",
            "                                                                                                  \n",
            " conv4_block17_2_pad (ZeroPaddi  (None, 16, 16, 256)  0          ['conv4_block17_1_relu[0][0]']   \n",
            " ng2D)                                                                                            \n",
            "                                                                                                  \n",
            " conv4_block17_2_conv (Conv2D)  (None, 14, 14, 256)  589824      ['conv4_block17_2_pad[0][0]']    \n",
            "                                                                                                  \n",
            " conv4_block17_2_bn (BatchNorma  (None, 14, 14, 256)  1024       ['conv4_block17_2_conv[0][0]']   \n",
            " lization)                                                                                        \n",
            "                                                                                                  \n",
            " conv4_block17_2_relu (Activati  (None, 14, 14, 256)  0          ['conv4_block17_2_bn[0][0]']     \n",
            " on)                                                                                              \n",
            "                                                                                                  \n",
            " conv4_block17_3_conv (Conv2D)  (None, 14, 14, 1024  263168      ['conv4_block17_2_relu[0][0]']   \n",
            "                                )                                                                 \n",
            "                                                                                                  \n",
            " conv4_block17_out (Add)        (None, 14, 14, 1024  0           ['conv4_block16_out[0][0]',      \n",
            "                                )                                 'conv4_block17_3_conv[0][0]']   \n",
            "                                                                                                  \n",
            " conv4_block18_preact_bn (Batch  (None, 14, 14, 1024  4096       ['conv4_block17_out[0][0]']      \n",
            " Normalization)                 )                                                                 \n",
            "                                                                                                  \n",
            " conv4_block18_preact_relu (Act  (None, 14, 14, 1024  0          ['conv4_block18_preact_bn[0][0]']\n",
            " ivation)                       )                                                                 \n",
            "                                                                                                  \n",
            " conv4_block18_1_conv (Conv2D)  (None, 14, 14, 256)  262144      ['conv4_block18_preact_relu[0][0]\n",
            "                                                                 ']                               \n",
            "                                                                                                  \n",
            " conv4_block18_1_bn (BatchNorma  (None, 14, 14, 256)  1024       ['conv4_block18_1_conv[0][0]']   \n",
            " lization)                                                                                        \n",
            "                                                                                                  \n",
            " conv4_block18_1_relu (Activati  (None, 14, 14, 256)  0          ['conv4_block18_1_bn[0][0]']     \n",
            " on)                                                                                              \n",
            "                                                                                                  \n",
            " conv4_block18_2_pad (ZeroPaddi  (None, 16, 16, 256)  0          ['conv4_block18_1_relu[0][0]']   \n",
            " ng2D)                                                                                            \n",
            "                                                                                                  \n",
            " conv4_block18_2_conv (Conv2D)  (None, 14, 14, 256)  589824      ['conv4_block18_2_pad[0][0]']    \n",
            "                                                                                                  \n",
            " conv4_block18_2_bn (BatchNorma  (None, 14, 14, 256)  1024       ['conv4_block18_2_conv[0][0]']   \n",
            " lization)                                                                                        \n",
            "                                                                                                  \n",
            " conv4_block18_2_relu (Activati  (None, 14, 14, 256)  0          ['conv4_block18_2_bn[0][0]']     \n",
            " on)                                                                                              \n",
            "                                                                                                  \n",
            " conv4_block18_3_conv (Conv2D)  (None, 14, 14, 1024  263168      ['conv4_block18_2_relu[0][0]']   \n",
            "                                )                                                                 \n",
            "                                                                                                  \n",
            " conv4_block18_out (Add)        (None, 14, 14, 1024  0           ['conv4_block17_out[0][0]',      \n",
            "                                )                                 'conv4_block18_3_conv[0][0]']   \n",
            "                                                                                                  \n",
            " conv4_block19_preact_bn (Batch  (None, 14, 14, 1024  4096       ['conv4_block18_out[0][0]']      \n",
            " Normalization)                 )                                                                 \n",
            "                                                                                                  \n",
            " conv4_block19_preact_relu (Act  (None, 14, 14, 1024  0          ['conv4_block19_preact_bn[0][0]']\n",
            " ivation)                       )                                                                 \n",
            "                                                                                                  \n",
            " conv4_block19_1_conv (Conv2D)  (None, 14, 14, 256)  262144      ['conv4_block19_preact_relu[0][0]\n",
            "                                                                 ']                               \n",
            "                                                                                                  \n",
            " conv4_block19_1_bn (BatchNorma  (None, 14, 14, 256)  1024       ['conv4_block19_1_conv[0][0]']   \n",
            " lization)                                                                                        \n",
            "                                                                                                  \n",
            " conv4_block19_1_relu (Activati  (None, 14, 14, 256)  0          ['conv4_block19_1_bn[0][0]']     \n",
            " on)                                                                                              \n",
            "                                                                                                  \n",
            " conv4_block19_2_pad (ZeroPaddi  (None, 16, 16, 256)  0          ['conv4_block19_1_relu[0][0]']   \n",
            " ng2D)                                                                                            \n",
            "                                                                                                  \n",
            " conv4_block19_2_conv (Conv2D)  (None, 14, 14, 256)  589824      ['conv4_block19_2_pad[0][0]']    \n",
            "                                                                                                  \n",
            " conv4_block19_2_bn (BatchNorma  (None, 14, 14, 256)  1024       ['conv4_block19_2_conv[0][0]']   \n",
            " lization)                                                                                        \n",
            "                                                                                                  \n",
            " conv4_block19_2_relu (Activati  (None, 14, 14, 256)  0          ['conv4_block19_2_bn[0][0]']     \n",
            " on)                                                                                              \n",
            "                                                                                                  \n",
            " conv4_block19_3_conv (Conv2D)  (None, 14, 14, 1024  263168      ['conv4_block19_2_relu[0][0]']   \n",
            "                                )                                                                 \n",
            "                                                                                                  \n",
            " conv4_block19_out (Add)        (None, 14, 14, 1024  0           ['conv4_block18_out[0][0]',      \n",
            "                                )                                 'conv4_block19_3_conv[0][0]']   \n",
            "                                                                                                  \n",
            " conv4_block20_preact_bn (Batch  (None, 14, 14, 1024  4096       ['conv4_block19_out[0][0]']      \n",
            " Normalization)                 )                                                                 \n",
            "                                                                                                  \n",
            " conv4_block20_preact_relu (Act  (None, 14, 14, 1024  0          ['conv4_block20_preact_bn[0][0]']\n",
            " ivation)                       )                                                                 \n",
            "                                                                                                  \n",
            " conv4_block20_1_conv (Conv2D)  (None, 14, 14, 256)  262144      ['conv4_block20_preact_relu[0][0]\n",
            "                                                                 ']                               \n",
            "                                                                                                  \n",
            " conv4_block20_1_bn (BatchNorma  (None, 14, 14, 256)  1024       ['conv4_block20_1_conv[0][0]']   \n",
            " lization)                                                                                        \n",
            "                                                                                                  \n",
            " conv4_block20_1_relu (Activati  (None, 14, 14, 256)  0          ['conv4_block20_1_bn[0][0]']     \n",
            " on)                                                                                              \n",
            "                                                                                                  \n",
            " conv4_block20_2_pad (ZeroPaddi  (None, 16, 16, 256)  0          ['conv4_block20_1_relu[0][0]']   \n",
            " ng2D)                                                                                            \n",
            "                                                                                                  \n",
            " conv4_block20_2_conv (Conv2D)  (None, 14, 14, 256)  589824      ['conv4_block20_2_pad[0][0]']    \n",
            "                                                                                                  \n",
            " conv4_block20_2_bn (BatchNorma  (None, 14, 14, 256)  1024       ['conv4_block20_2_conv[0][0]']   \n",
            " lization)                                                                                        \n",
            "                                                                                                  \n",
            " conv4_block20_2_relu (Activati  (None, 14, 14, 256)  0          ['conv4_block20_2_bn[0][0]']     \n",
            " on)                                                                                              \n",
            "                                                                                                  \n",
            " conv4_block20_3_conv (Conv2D)  (None, 14, 14, 1024  263168      ['conv4_block20_2_relu[0][0]']   \n",
            "                                )                                                                 \n",
            "                                                                                                  \n",
            " conv4_block20_out (Add)        (None, 14, 14, 1024  0           ['conv4_block19_out[0][0]',      \n",
            "                                )                                 'conv4_block20_3_conv[0][0]']   \n",
            "                                                                                                  \n",
            " conv4_block21_preact_bn (Batch  (None, 14, 14, 1024  4096       ['conv4_block20_out[0][0]']      \n",
            " Normalization)                 )                                                                 \n",
            "                                                                                                  \n",
            " conv4_block21_preact_relu (Act  (None, 14, 14, 1024  0          ['conv4_block21_preact_bn[0][0]']\n",
            " ivation)                       )                                                                 \n",
            "                                                                                                  \n",
            " conv4_block21_1_conv (Conv2D)  (None, 14, 14, 256)  262144      ['conv4_block21_preact_relu[0][0]\n",
            "                                                                 ']                               \n",
            "                                                                                                  \n",
            " conv4_block21_1_bn (BatchNorma  (None, 14, 14, 256)  1024       ['conv4_block21_1_conv[0][0]']   \n",
            " lization)                                                                                        \n",
            "                                                                                                  \n",
            " conv4_block21_1_relu (Activati  (None, 14, 14, 256)  0          ['conv4_block21_1_bn[0][0]']     \n",
            " on)                                                                                              \n",
            "                                                                                                  \n",
            " conv4_block21_2_pad (ZeroPaddi  (None, 16, 16, 256)  0          ['conv4_block21_1_relu[0][0]']   \n",
            " ng2D)                                                                                            \n",
            "                                                                                                  \n",
            " conv4_block21_2_conv (Conv2D)  (None, 14, 14, 256)  589824      ['conv4_block21_2_pad[0][0]']    \n",
            "                                                                                                  \n",
            " conv4_block21_2_bn (BatchNorma  (None, 14, 14, 256)  1024       ['conv4_block21_2_conv[0][0]']   \n",
            " lization)                                                                                        \n",
            "                                                                                                  \n",
            " conv4_block21_2_relu (Activati  (None, 14, 14, 256)  0          ['conv4_block21_2_bn[0][0]']     \n",
            " on)                                                                                              \n",
            "                                                                                                  \n",
            " conv4_block21_3_conv (Conv2D)  (None, 14, 14, 1024  263168      ['conv4_block21_2_relu[0][0]']   \n",
            "                                )                                                                 \n",
            "                                                                                                  \n",
            " conv4_block21_out (Add)        (None, 14, 14, 1024  0           ['conv4_block20_out[0][0]',      \n",
            "                                )                                 'conv4_block21_3_conv[0][0]']   \n",
            "                                                                                                  \n",
            " conv4_block22_preact_bn (Batch  (None, 14, 14, 1024  4096       ['conv4_block21_out[0][0]']      \n",
            " Normalization)                 )                                                                 \n",
            "                                                                                                  \n",
            " conv4_block22_preact_relu (Act  (None, 14, 14, 1024  0          ['conv4_block22_preact_bn[0][0]']\n",
            " ivation)                       )                                                                 \n",
            "                                                                                                  \n",
            " conv4_block22_1_conv (Conv2D)  (None, 14, 14, 256)  262144      ['conv4_block22_preact_relu[0][0]\n",
            "                                                                 ']                               \n",
            "                                                                                                  \n",
            " conv4_block22_1_bn (BatchNorma  (None, 14, 14, 256)  1024       ['conv4_block22_1_conv[0][0]']   \n",
            " lization)                                                                                        \n",
            "                                                                                                  \n",
            " conv4_block22_1_relu (Activati  (None, 14, 14, 256)  0          ['conv4_block22_1_bn[0][0]']     \n",
            " on)                                                                                              \n",
            "                                                                                                  \n",
            " conv4_block22_2_pad (ZeroPaddi  (None, 16, 16, 256)  0          ['conv4_block22_1_relu[0][0]']   \n",
            " ng2D)                                                                                            \n",
            "                                                                                                  \n",
            " conv4_block22_2_conv (Conv2D)  (None, 14, 14, 256)  589824      ['conv4_block22_2_pad[0][0]']    \n",
            "                                                                                                  \n",
            " conv4_block22_2_bn (BatchNorma  (None, 14, 14, 256)  1024       ['conv4_block22_2_conv[0][0]']   \n",
            " lization)                                                                                        \n",
            "                                                                                                  \n",
            " conv4_block22_2_relu (Activati  (None, 14, 14, 256)  0          ['conv4_block22_2_bn[0][0]']     \n",
            " on)                                                                                              \n",
            "                                                                                                  \n",
            " conv4_block22_3_conv (Conv2D)  (None, 14, 14, 1024  263168      ['conv4_block22_2_relu[0][0]']   \n",
            "                                )                                                                 \n",
            "                                                                                                  \n",
            " conv4_block22_out (Add)        (None, 14, 14, 1024  0           ['conv4_block21_out[0][0]',      \n",
            "                                )                                 'conv4_block22_3_conv[0][0]']   \n",
            "                                                                                                  \n",
            " conv4_block23_preact_bn (Batch  (None, 14, 14, 1024  4096       ['conv4_block22_out[0][0]']      \n",
            " Normalization)                 )                                                                 \n",
            "                                                                                                  \n",
            " conv4_block23_preact_relu (Act  (None, 14, 14, 1024  0          ['conv4_block23_preact_bn[0][0]']\n",
            " ivation)                       )                                                                 \n",
            "                                                                                                  \n",
            " conv4_block23_1_conv (Conv2D)  (None, 14, 14, 256)  262144      ['conv4_block23_preact_relu[0][0]\n",
            "                                                                 ']                               \n",
            "                                                                                                  \n",
            " conv4_block23_1_bn (BatchNorma  (None, 14, 14, 256)  1024       ['conv4_block23_1_conv[0][0]']   \n",
            " lization)                                                                                        \n",
            "                                                                                                  \n",
            " conv4_block23_1_relu (Activati  (None, 14, 14, 256)  0          ['conv4_block23_1_bn[0][0]']     \n",
            " on)                                                                                              \n",
            "                                                                                                  \n",
            " conv4_block23_2_pad (ZeroPaddi  (None, 16, 16, 256)  0          ['conv4_block23_1_relu[0][0]']   \n",
            " ng2D)                                                                                            \n",
            "                                                                                                  \n",
            " conv4_block23_2_conv (Conv2D)  (None, 14, 14, 256)  589824      ['conv4_block23_2_pad[0][0]']    \n",
            "                                                                                                  \n",
            " conv4_block23_2_bn (BatchNorma  (None, 14, 14, 256)  1024       ['conv4_block23_2_conv[0][0]']   \n",
            " lization)                                                                                        \n",
            "                                                                                                  \n",
            " conv4_block23_2_relu (Activati  (None, 14, 14, 256)  0          ['conv4_block23_2_bn[0][0]']     \n",
            " on)                                                                                              \n",
            "                                                                                                  \n",
            " conv4_block23_3_conv (Conv2D)  (None, 14, 14, 1024  263168      ['conv4_block23_2_relu[0][0]']   \n",
            "                                )                                                                 \n",
            "                                                                                                  \n",
            " conv4_block23_out (Add)        (None, 14, 14, 1024  0           ['conv4_block22_out[0][0]',      \n",
            "                                )                                 'conv4_block23_3_conv[0][0]']   \n",
            "                                                                                                  \n",
            " conv4_block24_preact_bn (Batch  (None, 14, 14, 1024  4096       ['conv4_block23_out[0][0]']      \n",
            " Normalization)                 )                                                                 \n",
            "                                                                                                  \n",
            " conv4_block24_preact_relu (Act  (None, 14, 14, 1024  0          ['conv4_block24_preact_bn[0][0]']\n",
            " ivation)                       )                                                                 \n",
            "                                                                                                  \n",
            " conv4_block24_1_conv (Conv2D)  (None, 14, 14, 256)  262144      ['conv4_block24_preact_relu[0][0]\n",
            "                                                                 ']                               \n",
            "                                                                                                  \n",
            " conv4_block24_1_bn (BatchNorma  (None, 14, 14, 256)  1024       ['conv4_block24_1_conv[0][0]']   \n",
            " lization)                                                                                        \n",
            "                                                                                                  \n",
            " conv4_block24_1_relu (Activati  (None, 14, 14, 256)  0          ['conv4_block24_1_bn[0][0]']     \n",
            " on)                                                                                              \n",
            "                                                                                                  \n",
            " conv4_block24_2_pad (ZeroPaddi  (None, 16, 16, 256)  0          ['conv4_block24_1_relu[0][0]']   \n",
            " ng2D)                                                                                            \n",
            "                                                                                                  \n",
            " conv4_block24_2_conv (Conv2D)  (None, 14, 14, 256)  589824      ['conv4_block24_2_pad[0][0]']    \n",
            "                                                                                                  \n",
            " conv4_block24_2_bn (BatchNorma  (None, 14, 14, 256)  1024       ['conv4_block24_2_conv[0][0]']   \n",
            " lization)                                                                                        \n",
            "                                                                                                  \n",
            " conv4_block24_2_relu (Activati  (None, 14, 14, 256)  0          ['conv4_block24_2_bn[0][0]']     \n",
            " on)                                                                                              \n",
            "                                                                                                  \n",
            " conv4_block24_3_conv (Conv2D)  (None, 14, 14, 1024  263168      ['conv4_block24_2_relu[0][0]']   \n",
            "                                )                                                                 \n",
            "                                                                                                  \n",
            " conv4_block24_out (Add)        (None, 14, 14, 1024  0           ['conv4_block23_out[0][0]',      \n",
            "                                )                                 'conv4_block24_3_conv[0][0]']   \n",
            "                                                                                                  \n",
            " conv4_block25_preact_bn (Batch  (None, 14, 14, 1024  4096       ['conv4_block24_out[0][0]']      \n",
            " Normalization)                 )                                                                 \n",
            "                                                                                                  \n",
            " conv4_block25_preact_relu (Act  (None, 14, 14, 1024  0          ['conv4_block25_preact_bn[0][0]']\n",
            " ivation)                       )                                                                 \n",
            "                                                                                                  \n",
            " conv4_block25_1_conv (Conv2D)  (None, 14, 14, 256)  262144      ['conv4_block25_preact_relu[0][0]\n",
            "                                                                 ']                               \n",
            "                                                                                                  \n",
            " conv4_block25_1_bn (BatchNorma  (None, 14, 14, 256)  1024       ['conv4_block25_1_conv[0][0]']   \n",
            " lization)                                                                                        \n",
            "                                                                                                  \n",
            " conv4_block25_1_relu (Activati  (None, 14, 14, 256)  0          ['conv4_block25_1_bn[0][0]']     \n",
            " on)                                                                                              \n",
            "                                                                                                  \n",
            " conv4_block25_2_pad (ZeroPaddi  (None, 16, 16, 256)  0          ['conv4_block25_1_relu[0][0]']   \n",
            " ng2D)                                                                                            \n",
            "                                                                                                  \n",
            " conv4_block25_2_conv (Conv2D)  (None, 14, 14, 256)  589824      ['conv4_block25_2_pad[0][0]']    \n",
            "                                                                                                  \n",
            " conv4_block25_2_bn (BatchNorma  (None, 14, 14, 256)  1024       ['conv4_block25_2_conv[0][0]']   \n",
            " lization)                                                                                        \n",
            "                                                                                                  \n",
            " conv4_block25_2_relu (Activati  (None, 14, 14, 256)  0          ['conv4_block25_2_bn[0][0]']     \n",
            " on)                                                                                              \n",
            "                                                                                                  \n",
            " conv4_block25_3_conv (Conv2D)  (None, 14, 14, 1024  263168      ['conv4_block25_2_relu[0][0]']   \n",
            "                                )                                                                 \n",
            "                                                                                                  \n",
            " conv4_block25_out (Add)        (None, 14, 14, 1024  0           ['conv4_block24_out[0][0]',      \n",
            "                                )                                 'conv4_block25_3_conv[0][0]']   \n",
            "                                                                                                  \n",
            " conv4_block26_preact_bn (Batch  (None, 14, 14, 1024  4096       ['conv4_block25_out[0][0]']      \n",
            " Normalization)                 )                                                                 \n",
            "                                                                                                  \n",
            " conv4_block26_preact_relu (Act  (None, 14, 14, 1024  0          ['conv4_block26_preact_bn[0][0]']\n",
            " ivation)                       )                                                                 \n",
            "                                                                                                  \n",
            " conv4_block26_1_conv (Conv2D)  (None, 14, 14, 256)  262144      ['conv4_block26_preact_relu[0][0]\n",
            "                                                                 ']                               \n",
            "                                                                                                  \n",
            " conv4_block26_1_bn (BatchNorma  (None, 14, 14, 256)  1024       ['conv4_block26_1_conv[0][0]']   \n",
            " lization)                                                                                        \n",
            "                                                                                                  \n",
            " conv4_block26_1_relu (Activati  (None, 14, 14, 256)  0          ['conv4_block26_1_bn[0][0]']     \n",
            " on)                                                                                              \n",
            "                                                                                                  \n",
            " conv4_block26_2_pad (ZeroPaddi  (None, 16, 16, 256)  0          ['conv4_block26_1_relu[0][0]']   \n",
            " ng2D)                                                                                            \n",
            "                                                                                                  \n",
            " conv4_block26_2_conv (Conv2D)  (None, 14, 14, 256)  589824      ['conv4_block26_2_pad[0][0]']    \n",
            "                                                                                                  \n",
            " conv4_block26_2_bn (BatchNorma  (None, 14, 14, 256)  1024       ['conv4_block26_2_conv[0][0]']   \n",
            " lization)                                                                                        \n",
            "                                                                                                  \n",
            " conv4_block26_2_relu (Activati  (None, 14, 14, 256)  0          ['conv4_block26_2_bn[0][0]']     \n",
            " on)                                                                                              \n",
            "                                                                                                  \n",
            " conv4_block26_3_conv (Conv2D)  (None, 14, 14, 1024  263168      ['conv4_block26_2_relu[0][0]']   \n",
            "                                )                                                                 \n",
            "                                                                                                  \n",
            " conv4_block26_out (Add)        (None, 14, 14, 1024  0           ['conv4_block25_out[0][0]',      \n",
            "                                )                                 'conv4_block26_3_conv[0][0]']   \n",
            "                                                                                                  \n",
            " conv4_block27_preact_bn (Batch  (None, 14, 14, 1024  4096       ['conv4_block26_out[0][0]']      \n",
            " Normalization)                 )                                                                 \n",
            "                                                                                                  \n",
            " conv4_block27_preact_relu (Act  (None, 14, 14, 1024  0          ['conv4_block27_preact_bn[0][0]']\n",
            " ivation)                       )                                                                 \n",
            "                                                                                                  \n",
            " conv4_block27_1_conv (Conv2D)  (None, 14, 14, 256)  262144      ['conv4_block27_preact_relu[0][0]\n",
            "                                                                 ']                               \n",
            "                                                                                                  \n",
            " conv4_block27_1_bn (BatchNorma  (None, 14, 14, 256)  1024       ['conv4_block27_1_conv[0][0]']   \n",
            " lization)                                                                                        \n",
            "                                                                                                  \n",
            " conv4_block27_1_relu (Activati  (None, 14, 14, 256)  0          ['conv4_block27_1_bn[0][0]']     \n",
            " on)                                                                                              \n",
            "                                                                                                  \n",
            " conv4_block27_2_pad (ZeroPaddi  (None, 16, 16, 256)  0          ['conv4_block27_1_relu[0][0]']   \n",
            " ng2D)                                                                                            \n",
            "                                                                                                  \n",
            " conv4_block27_2_conv (Conv2D)  (None, 14, 14, 256)  589824      ['conv4_block27_2_pad[0][0]']    \n",
            "                                                                                                  \n",
            " conv4_block27_2_bn (BatchNorma  (None, 14, 14, 256)  1024       ['conv4_block27_2_conv[0][0]']   \n",
            " lization)                                                                                        \n",
            "                                                                                                  \n",
            " conv4_block27_2_relu (Activati  (None, 14, 14, 256)  0          ['conv4_block27_2_bn[0][0]']     \n",
            " on)                                                                                              \n",
            "                                                                                                  \n",
            " conv4_block27_3_conv (Conv2D)  (None, 14, 14, 1024  263168      ['conv4_block27_2_relu[0][0]']   \n",
            "                                )                                                                 \n",
            "                                                                                                  \n",
            " conv4_block27_out (Add)        (None, 14, 14, 1024  0           ['conv4_block26_out[0][0]',      \n",
            "                                )                                 'conv4_block27_3_conv[0][0]']   \n",
            "                                                                                                  \n",
            " conv4_block28_preact_bn (Batch  (None, 14, 14, 1024  4096       ['conv4_block27_out[0][0]']      \n",
            " Normalization)                 )                                                                 \n",
            "                                                                                                  \n",
            " conv4_block28_preact_relu (Act  (None, 14, 14, 1024  0          ['conv4_block28_preact_bn[0][0]']\n",
            " ivation)                       )                                                                 \n",
            "                                                                                                  \n",
            " conv4_block28_1_conv (Conv2D)  (None, 14, 14, 256)  262144      ['conv4_block28_preact_relu[0][0]\n",
            "                                                                 ']                               \n",
            "                                                                                                  \n",
            " conv4_block28_1_bn (BatchNorma  (None, 14, 14, 256)  1024       ['conv4_block28_1_conv[0][0]']   \n",
            " lization)                                                                                        \n",
            "                                                                                                  \n",
            " conv4_block28_1_relu (Activati  (None, 14, 14, 256)  0          ['conv4_block28_1_bn[0][0]']     \n",
            " on)                                                                                              \n",
            "                                                                                                  \n",
            " conv4_block28_2_pad (ZeroPaddi  (None, 16, 16, 256)  0          ['conv4_block28_1_relu[0][0]']   \n",
            " ng2D)                                                                                            \n",
            "                                                                                                  \n",
            " conv4_block28_2_conv (Conv2D)  (None, 14, 14, 256)  589824      ['conv4_block28_2_pad[0][0]']    \n",
            "                                                                                                  \n",
            " conv4_block28_2_bn (BatchNorma  (None, 14, 14, 256)  1024       ['conv4_block28_2_conv[0][0]']   \n",
            " lization)                                                                                        \n",
            "                                                                                                  \n",
            " conv4_block28_2_relu (Activati  (None, 14, 14, 256)  0          ['conv4_block28_2_bn[0][0]']     \n",
            " on)                                                                                              \n",
            "                                                                                                  \n",
            " conv4_block28_3_conv (Conv2D)  (None, 14, 14, 1024  263168      ['conv4_block28_2_relu[0][0]']   \n",
            "                                )                                                                 \n",
            "                                                                                                  \n",
            " conv4_block28_out (Add)        (None, 14, 14, 1024  0           ['conv4_block27_out[0][0]',      \n",
            "                                )                                 'conv4_block28_3_conv[0][0]']   \n",
            "                                                                                                  \n",
            " conv4_block29_preact_bn (Batch  (None, 14, 14, 1024  4096       ['conv4_block28_out[0][0]']      \n",
            " Normalization)                 )                                                                 \n",
            "                                                                                                  \n",
            " conv4_block29_preact_relu (Act  (None, 14, 14, 1024  0          ['conv4_block29_preact_bn[0][0]']\n",
            " ivation)                       )                                                                 \n",
            "                                                                                                  \n",
            " conv4_block29_1_conv (Conv2D)  (None, 14, 14, 256)  262144      ['conv4_block29_preact_relu[0][0]\n",
            "                                                                 ']                               \n",
            "                                                                                                  \n",
            " conv4_block29_1_bn (BatchNorma  (None, 14, 14, 256)  1024       ['conv4_block29_1_conv[0][0]']   \n",
            " lization)                                                                                        \n",
            "                                                                                                  \n",
            " conv4_block29_1_relu (Activati  (None, 14, 14, 256)  0          ['conv4_block29_1_bn[0][0]']     \n",
            " on)                                                                                              \n",
            "                                                                                                  \n",
            " conv4_block29_2_pad (ZeroPaddi  (None, 16, 16, 256)  0          ['conv4_block29_1_relu[0][0]']   \n",
            " ng2D)                                                                                            \n",
            "                                                                                                  \n",
            " conv4_block29_2_conv (Conv2D)  (None, 14, 14, 256)  589824      ['conv4_block29_2_pad[0][0]']    \n",
            "                                                                                                  \n",
            " conv4_block29_2_bn (BatchNorma  (None, 14, 14, 256)  1024       ['conv4_block29_2_conv[0][0]']   \n",
            " lization)                                                                                        \n",
            "                                                                                                  \n",
            " conv4_block29_2_relu (Activati  (None, 14, 14, 256)  0          ['conv4_block29_2_bn[0][0]']     \n",
            " on)                                                                                              \n",
            "                                                                                                  \n",
            " conv4_block29_3_conv (Conv2D)  (None, 14, 14, 1024  263168      ['conv4_block29_2_relu[0][0]']   \n",
            "                                )                                                                 \n",
            "                                                                                                  \n",
            " conv4_block29_out (Add)        (None, 14, 14, 1024  0           ['conv4_block28_out[0][0]',      \n",
            "                                )                                 'conv4_block29_3_conv[0][0]']   \n",
            "                                                                                                  \n",
            " conv4_block30_preact_bn (Batch  (None, 14, 14, 1024  4096       ['conv4_block29_out[0][0]']      \n",
            " Normalization)                 )                                                                 \n",
            "                                                                                                  \n",
            " conv4_block30_preact_relu (Act  (None, 14, 14, 1024  0          ['conv4_block30_preact_bn[0][0]']\n",
            " ivation)                       )                                                                 \n",
            "                                                                                                  \n",
            " conv4_block30_1_conv (Conv2D)  (None, 14, 14, 256)  262144      ['conv4_block30_preact_relu[0][0]\n",
            "                                                                 ']                               \n",
            "                                                                                                  \n",
            " conv4_block30_1_bn (BatchNorma  (None, 14, 14, 256)  1024       ['conv4_block30_1_conv[0][0]']   \n",
            " lization)                                                                                        \n",
            "                                                                                                  \n",
            " conv4_block30_1_relu (Activati  (None, 14, 14, 256)  0          ['conv4_block30_1_bn[0][0]']     \n",
            " on)                                                                                              \n",
            "                                                                                                  \n",
            " conv4_block30_2_pad (ZeroPaddi  (None, 16, 16, 256)  0          ['conv4_block30_1_relu[0][0]']   \n",
            " ng2D)                                                                                            \n",
            "                                                                                                  \n",
            " conv4_block30_2_conv (Conv2D)  (None, 14, 14, 256)  589824      ['conv4_block30_2_pad[0][0]']    \n",
            "                                                                                                  \n",
            " conv4_block30_2_bn (BatchNorma  (None, 14, 14, 256)  1024       ['conv4_block30_2_conv[0][0]']   \n",
            " lization)                                                                                        \n",
            "                                                                                                  \n",
            " conv4_block30_2_relu (Activati  (None, 14, 14, 256)  0          ['conv4_block30_2_bn[0][0]']     \n",
            " on)                                                                                              \n",
            "                                                                                                  \n",
            " conv4_block30_3_conv (Conv2D)  (None, 14, 14, 1024  263168      ['conv4_block30_2_relu[0][0]']   \n",
            "                                )                                                                 \n",
            "                                                                                                  \n",
            " conv4_block30_out (Add)        (None, 14, 14, 1024  0           ['conv4_block29_out[0][0]',      \n",
            "                                )                                 'conv4_block30_3_conv[0][0]']   \n",
            "                                                                                                  \n",
            " conv4_block31_preact_bn (Batch  (None, 14, 14, 1024  4096       ['conv4_block30_out[0][0]']      \n",
            " Normalization)                 )                                                                 \n",
            "                                                                                                  \n",
            " conv4_block31_preact_relu (Act  (None, 14, 14, 1024  0          ['conv4_block31_preact_bn[0][0]']\n",
            " ivation)                       )                                                                 \n",
            "                                                                                                  \n",
            " conv4_block31_1_conv (Conv2D)  (None, 14, 14, 256)  262144      ['conv4_block31_preact_relu[0][0]\n",
            "                                                                 ']                               \n",
            "                                                                                                  \n",
            " conv4_block31_1_bn (BatchNorma  (None, 14, 14, 256)  1024       ['conv4_block31_1_conv[0][0]']   \n",
            " lization)                                                                                        \n",
            "                                                                                                  \n",
            " conv4_block31_1_relu (Activati  (None, 14, 14, 256)  0          ['conv4_block31_1_bn[0][0]']     \n",
            " on)                                                                                              \n",
            "                                                                                                  \n",
            " conv4_block31_2_pad (ZeroPaddi  (None, 16, 16, 256)  0          ['conv4_block31_1_relu[0][0]']   \n",
            " ng2D)                                                                                            \n",
            "                                                                                                  \n",
            " conv4_block31_2_conv (Conv2D)  (None, 14, 14, 256)  589824      ['conv4_block31_2_pad[0][0]']    \n",
            "                                                                                                  \n",
            " conv4_block31_2_bn (BatchNorma  (None, 14, 14, 256)  1024       ['conv4_block31_2_conv[0][0]']   \n",
            " lization)                                                                                        \n",
            "                                                                                                  \n",
            " conv4_block31_2_relu (Activati  (None, 14, 14, 256)  0          ['conv4_block31_2_bn[0][0]']     \n",
            " on)                                                                                              \n",
            "                                                                                                  \n",
            " conv4_block31_3_conv (Conv2D)  (None, 14, 14, 1024  263168      ['conv4_block31_2_relu[0][0]']   \n",
            "                                )                                                                 \n",
            "                                                                                                  \n",
            " conv4_block31_out (Add)        (None, 14, 14, 1024  0           ['conv4_block30_out[0][0]',      \n",
            "                                )                                 'conv4_block31_3_conv[0][0]']   \n",
            "                                                                                                  \n",
            " conv4_block32_preact_bn (Batch  (None, 14, 14, 1024  4096       ['conv4_block31_out[0][0]']      \n",
            " Normalization)                 )                                                                 \n",
            "                                                                                                  \n",
            " conv4_block32_preact_relu (Act  (None, 14, 14, 1024  0          ['conv4_block32_preact_bn[0][0]']\n",
            " ivation)                       )                                                                 \n",
            "                                                                                                  \n",
            " conv4_block32_1_conv (Conv2D)  (None, 14, 14, 256)  262144      ['conv4_block32_preact_relu[0][0]\n",
            "                                                                 ']                               \n",
            "                                                                                                  \n",
            " conv4_block32_1_bn (BatchNorma  (None, 14, 14, 256)  1024       ['conv4_block32_1_conv[0][0]']   \n",
            " lization)                                                                                        \n",
            "                                                                                                  \n",
            " conv4_block32_1_relu (Activati  (None, 14, 14, 256)  0          ['conv4_block32_1_bn[0][0]']     \n",
            " on)                                                                                              \n",
            "                                                                                                  \n",
            " conv4_block32_2_pad (ZeroPaddi  (None, 16, 16, 256)  0          ['conv4_block32_1_relu[0][0]']   \n",
            " ng2D)                                                                                            \n",
            "                                                                                                  \n",
            " conv4_block32_2_conv (Conv2D)  (None, 14, 14, 256)  589824      ['conv4_block32_2_pad[0][0]']    \n",
            "                                                                                                  \n",
            " conv4_block32_2_bn (BatchNorma  (None, 14, 14, 256)  1024       ['conv4_block32_2_conv[0][0]']   \n",
            " lization)                                                                                        \n",
            "                                                                                                  \n",
            " conv4_block32_2_relu (Activati  (None, 14, 14, 256)  0          ['conv4_block32_2_bn[0][0]']     \n",
            " on)                                                                                              \n",
            "                                                                                                  \n",
            " conv4_block32_3_conv (Conv2D)  (None, 14, 14, 1024  263168      ['conv4_block32_2_relu[0][0]']   \n",
            "                                )                                                                 \n",
            "                                                                                                  \n",
            " conv4_block32_out (Add)        (None, 14, 14, 1024  0           ['conv4_block31_out[0][0]',      \n",
            "                                )                                 'conv4_block32_3_conv[0][0]']   \n",
            "                                                                                                  \n",
            " conv4_block33_preact_bn (Batch  (None, 14, 14, 1024  4096       ['conv4_block32_out[0][0]']      \n",
            " Normalization)                 )                                                                 \n",
            "                                                                                                  \n",
            " conv4_block33_preact_relu (Act  (None, 14, 14, 1024  0          ['conv4_block33_preact_bn[0][0]']\n",
            " ivation)                       )                                                                 \n",
            "                                                                                                  \n",
            " conv4_block33_1_conv (Conv2D)  (None, 14, 14, 256)  262144      ['conv4_block33_preact_relu[0][0]\n",
            "                                                                 ']                               \n",
            "                                                                                                  \n",
            " conv4_block33_1_bn (BatchNorma  (None, 14, 14, 256)  1024       ['conv4_block33_1_conv[0][0]']   \n",
            " lization)                                                                                        \n",
            "                                                                                                  \n",
            " conv4_block33_1_relu (Activati  (None, 14, 14, 256)  0          ['conv4_block33_1_bn[0][0]']     \n",
            " on)                                                                                              \n",
            "                                                                                                  \n",
            " conv4_block33_2_pad (ZeroPaddi  (None, 16, 16, 256)  0          ['conv4_block33_1_relu[0][0]']   \n",
            " ng2D)                                                                                            \n",
            "                                                                                                  \n",
            " conv4_block33_2_conv (Conv2D)  (None, 14, 14, 256)  589824      ['conv4_block33_2_pad[0][0]']    \n",
            "                                                                                                  \n",
            " conv4_block33_2_bn (BatchNorma  (None, 14, 14, 256)  1024       ['conv4_block33_2_conv[0][0]']   \n",
            " lization)                                                                                        \n",
            "                                                                                                  \n",
            " conv4_block33_2_relu (Activati  (None, 14, 14, 256)  0          ['conv4_block33_2_bn[0][0]']     \n",
            " on)                                                                                              \n",
            "                                                                                                  \n",
            " conv4_block33_3_conv (Conv2D)  (None, 14, 14, 1024  263168      ['conv4_block33_2_relu[0][0]']   \n",
            "                                )                                                                 \n",
            "                                                                                                  \n",
            " conv4_block33_out (Add)        (None, 14, 14, 1024  0           ['conv4_block32_out[0][0]',      \n",
            "                                )                                 'conv4_block33_3_conv[0][0]']   \n",
            "                                                                                                  \n",
            " conv4_block34_preact_bn (Batch  (None, 14, 14, 1024  4096       ['conv4_block33_out[0][0]']      \n",
            " Normalization)                 )                                                                 \n",
            "                                                                                                  \n",
            " conv4_block34_preact_relu (Act  (None, 14, 14, 1024  0          ['conv4_block34_preact_bn[0][0]']\n",
            " ivation)                       )                                                                 \n",
            "                                                                                                  \n",
            " conv4_block34_1_conv (Conv2D)  (None, 14, 14, 256)  262144      ['conv4_block34_preact_relu[0][0]\n",
            "                                                                 ']                               \n",
            "                                                                                                  \n",
            " conv4_block34_1_bn (BatchNorma  (None, 14, 14, 256)  1024       ['conv4_block34_1_conv[0][0]']   \n",
            " lization)                                                                                        \n",
            "                                                                                                  \n",
            " conv4_block34_1_relu (Activati  (None, 14, 14, 256)  0          ['conv4_block34_1_bn[0][0]']     \n",
            " on)                                                                                              \n",
            "                                                                                                  \n",
            " conv4_block34_2_pad (ZeroPaddi  (None, 16, 16, 256)  0          ['conv4_block34_1_relu[0][0]']   \n",
            " ng2D)                                                                                            \n",
            "                                                                                                  \n",
            " conv4_block34_2_conv (Conv2D)  (None, 14, 14, 256)  589824      ['conv4_block34_2_pad[0][0]']    \n",
            "                                                                                                  \n",
            " conv4_block34_2_bn (BatchNorma  (None, 14, 14, 256)  1024       ['conv4_block34_2_conv[0][0]']   \n",
            " lization)                                                                                        \n",
            "                                                                                                  \n",
            " conv4_block34_2_relu (Activati  (None, 14, 14, 256)  0          ['conv4_block34_2_bn[0][0]']     \n",
            " on)                                                                                              \n",
            "                                                                                                  \n",
            " conv4_block34_3_conv (Conv2D)  (None, 14, 14, 1024  263168      ['conv4_block34_2_relu[0][0]']   \n",
            "                                )                                                                 \n",
            "                                                                                                  \n",
            " conv4_block34_out (Add)        (None, 14, 14, 1024  0           ['conv4_block33_out[0][0]',      \n",
            "                                )                                 'conv4_block34_3_conv[0][0]']   \n",
            "                                                                                                  \n",
            " conv4_block35_preact_bn (Batch  (None, 14, 14, 1024  4096       ['conv4_block34_out[0][0]']      \n",
            " Normalization)                 )                                                                 \n",
            "                                                                                                  \n",
            " conv4_block35_preact_relu (Act  (None, 14, 14, 1024  0          ['conv4_block35_preact_bn[0][0]']\n",
            " ivation)                       )                                                                 \n",
            "                                                                                                  \n",
            " conv4_block35_1_conv (Conv2D)  (None, 14, 14, 256)  262144      ['conv4_block35_preact_relu[0][0]\n",
            "                                                                 ']                               \n",
            "                                                                                                  \n",
            " conv4_block35_1_bn (BatchNorma  (None, 14, 14, 256)  1024       ['conv4_block35_1_conv[0][0]']   \n",
            " lization)                                                                                        \n",
            "                                                                                                  \n",
            " conv4_block35_1_relu (Activati  (None, 14, 14, 256)  0          ['conv4_block35_1_bn[0][0]']     \n",
            " on)                                                                                              \n",
            "                                                                                                  \n",
            " conv4_block35_2_pad (ZeroPaddi  (None, 16, 16, 256)  0          ['conv4_block35_1_relu[0][0]']   \n",
            " ng2D)                                                                                            \n",
            "                                                                                                  \n",
            " conv4_block35_2_conv (Conv2D)  (None, 14, 14, 256)  589824      ['conv4_block35_2_pad[0][0]']    \n",
            "                                                                                                  \n",
            " conv4_block35_2_bn (BatchNorma  (None, 14, 14, 256)  1024       ['conv4_block35_2_conv[0][0]']   \n",
            " lization)                                                                                        \n",
            "                                                                                                  \n",
            " conv4_block35_2_relu (Activati  (None, 14, 14, 256)  0          ['conv4_block35_2_bn[0][0]']     \n",
            " on)                                                                                              \n",
            "                                                                                                  \n",
            " conv4_block35_3_conv (Conv2D)  (None, 14, 14, 1024  263168      ['conv4_block35_2_relu[0][0]']   \n",
            "                                )                                                                 \n",
            "                                                                                                  \n",
            " conv4_block35_out (Add)        (None, 14, 14, 1024  0           ['conv4_block34_out[0][0]',      \n",
            "                                )                                 'conv4_block35_3_conv[0][0]']   \n",
            "                                                                                                  \n",
            " conv4_block36_preact_bn (Batch  (None, 14, 14, 1024  4096       ['conv4_block35_out[0][0]']      \n",
            " Normalization)                 )                                                                 \n",
            "                                                                                                  \n",
            " conv4_block36_preact_relu (Act  (None, 14, 14, 1024  0          ['conv4_block36_preact_bn[0][0]']\n",
            " ivation)                       )                                                                 \n",
            "                                                                                                  \n",
            " conv4_block36_1_conv (Conv2D)  (None, 14, 14, 256)  262144      ['conv4_block36_preact_relu[0][0]\n",
            "                                                                 ']                               \n",
            "                                                                                                  \n",
            " conv4_block36_1_bn (BatchNorma  (None, 14, 14, 256)  1024       ['conv4_block36_1_conv[0][0]']   \n",
            " lization)                                                                                        \n",
            "                                                                                                  \n",
            " conv4_block36_1_relu (Activati  (None, 14, 14, 256)  0          ['conv4_block36_1_bn[0][0]']     \n",
            " on)                                                                                              \n",
            "                                                                                                  \n",
            " conv4_block36_2_pad (ZeroPaddi  (None, 16, 16, 256)  0          ['conv4_block36_1_relu[0][0]']   \n",
            " ng2D)                                                                                            \n",
            "                                                                                                  \n",
            " conv4_block36_2_conv (Conv2D)  (None, 7, 7, 256)    589824      ['conv4_block36_2_pad[0][0]']    \n",
            "                                                                                                  \n",
            " conv4_block36_2_bn (BatchNorma  (None, 7, 7, 256)   1024        ['conv4_block36_2_conv[0][0]']   \n",
            " lization)                                                                                        \n",
            "                                                                                                  \n",
            " conv4_block36_2_relu (Activati  (None, 7, 7, 256)   0           ['conv4_block36_2_bn[0][0]']     \n",
            " on)                                                                                              \n",
            "                                                                                                  \n",
            " max_pooling2d_2 (MaxPooling2D)  (None, 7, 7, 1024)  0           ['conv4_block35_out[0][0]']      \n",
            "                                                                                                  \n",
            " conv4_block36_3_conv (Conv2D)  (None, 7, 7, 1024)   263168      ['conv4_block36_2_relu[0][0]']   \n",
            "                                                                                                  \n",
            " conv4_block36_out (Add)        (None, 7, 7, 1024)   0           ['max_pooling2d_2[0][0]',        \n",
            "                                                                  'conv4_block36_3_conv[0][0]']   \n",
            "                                                                                                  \n",
            " conv5_block1_preact_bn (BatchN  (None, 7, 7, 1024)  4096        ['conv4_block36_out[0][0]']      \n",
            " ormalization)                                                                                    \n",
            "                                                                                                  \n",
            " conv5_block1_preact_relu (Acti  (None, 7, 7, 1024)  0           ['conv5_block1_preact_bn[0][0]'] \n",
            " vation)                                                                                          \n",
            "                                                                                                  \n",
            " conv5_block1_1_conv (Conv2D)   (None, 7, 7, 512)    524288      ['conv5_block1_preact_relu[0][0]'\n",
            "                                                                 ]                                \n",
            "                                                                                                  \n",
            " conv5_block1_1_bn (BatchNormal  (None, 7, 7, 512)   2048        ['conv5_block1_1_conv[0][0]']    \n",
            " ization)                                                                                         \n",
            "                                                                                                  \n",
            " conv5_block1_1_relu (Activatio  (None, 7, 7, 512)   0           ['conv5_block1_1_bn[0][0]']      \n",
            " n)                                                                                               \n",
            "                                                                                                  \n",
            " conv5_block1_2_pad (ZeroPaddin  (None, 9, 9, 512)   0           ['conv5_block1_1_relu[0][0]']    \n",
            " g2D)                                                                                             \n",
            "                                                                                                  \n",
            " conv5_block1_2_conv (Conv2D)   (None, 7, 7, 512)    2359296     ['conv5_block1_2_pad[0][0]']     \n",
            "                                                                                                  \n",
            " conv5_block1_2_bn (BatchNormal  (None, 7, 7, 512)   2048        ['conv5_block1_2_conv[0][0]']    \n",
            " ization)                                                                                         \n",
            "                                                                                                  \n",
            " conv5_block1_2_relu (Activatio  (None, 7, 7, 512)   0           ['conv5_block1_2_bn[0][0]']      \n",
            " n)                                                                                               \n",
            "                                                                                                  \n",
            " conv5_block1_0_conv (Conv2D)   (None, 7, 7, 2048)   2099200     ['conv5_block1_preact_relu[0][0]'\n",
            "                                                                 ]                                \n",
            "                                                                                                  \n",
            " conv5_block1_3_conv (Conv2D)   (None, 7, 7, 2048)   1050624     ['conv5_block1_2_relu[0][0]']    \n",
            "                                                                                                  \n",
            " conv5_block1_out (Add)         (None, 7, 7, 2048)   0           ['conv5_block1_0_conv[0][0]',    \n",
            "                                                                  'conv5_block1_3_conv[0][0]']    \n",
            "                                                                                                  \n",
            " conv5_block2_preact_bn (BatchN  (None, 7, 7, 2048)  8192        ['conv5_block1_out[0][0]']       \n",
            " ormalization)                                                                                    \n",
            "                                                                                                  \n",
            " conv5_block2_preact_relu (Acti  (None, 7, 7, 2048)  0           ['conv5_block2_preact_bn[0][0]'] \n",
            " vation)                                                                                          \n",
            "                                                                                                  \n",
            " conv5_block2_1_conv (Conv2D)   (None, 7, 7, 512)    1048576     ['conv5_block2_preact_relu[0][0]'\n",
            "                                                                 ]                                \n",
            "                                                                                                  \n",
            " conv5_block2_1_bn (BatchNormal  (None, 7, 7, 512)   2048        ['conv5_block2_1_conv[0][0]']    \n",
            " ization)                                                                                         \n",
            "                                                                                                  \n",
            " conv5_block2_1_relu (Activatio  (None, 7, 7, 512)   0           ['conv5_block2_1_bn[0][0]']      \n",
            " n)                                                                                               \n",
            "                                                                                                  \n",
            " conv5_block2_2_pad (ZeroPaddin  (None, 9, 9, 512)   0           ['conv5_block2_1_relu[0][0]']    \n",
            " g2D)                                                                                             \n",
            "                                                                                                  \n",
            " conv5_block2_2_conv (Conv2D)   (None, 7, 7, 512)    2359296     ['conv5_block2_2_pad[0][0]']     \n",
            "                                                                                                  \n",
            " conv5_block2_2_bn (BatchNormal  (None, 7, 7, 512)   2048        ['conv5_block2_2_conv[0][0]']    \n",
            " ization)                                                                                         \n",
            "                                                                                                  \n",
            " conv5_block2_2_relu (Activatio  (None, 7, 7, 512)   0           ['conv5_block2_2_bn[0][0]']      \n",
            " n)                                                                                               \n",
            "                                                                                                  \n",
            " conv5_block2_3_conv (Conv2D)   (None, 7, 7, 2048)   1050624     ['conv5_block2_2_relu[0][0]']    \n",
            "                                                                                                  \n",
            " conv5_block2_out (Add)         (None, 7, 7, 2048)   0           ['conv5_block1_out[0][0]',       \n",
            "                                                                  'conv5_block2_3_conv[0][0]']    \n",
            "                                                                                                  \n",
            " conv5_block3_preact_bn (BatchN  (None, 7, 7, 2048)  8192        ['conv5_block2_out[0][0]']       \n",
            " ormalization)                                                                                    \n",
            "                                                                                                  \n",
            " conv5_block3_preact_relu (Acti  (None, 7, 7, 2048)  0           ['conv5_block3_preact_bn[0][0]'] \n",
            " vation)                                                                                          \n",
            "                                                                                                  \n",
            " conv5_block3_1_conv (Conv2D)   (None, 7, 7, 512)    1048576     ['conv5_block3_preact_relu[0][0]'\n",
            "                                                                 ]                                \n",
            "                                                                                                  \n",
            " conv5_block3_1_bn (BatchNormal  (None, 7, 7, 512)   2048        ['conv5_block3_1_conv[0][0]']    \n",
            " ization)                                                                                         \n",
            "                                                                                                  \n",
            " conv5_block3_1_relu (Activatio  (None, 7, 7, 512)   0           ['conv5_block3_1_bn[0][0]']      \n",
            " n)                                                                                               \n",
            "                                                                                                  \n",
            " conv5_block3_2_pad (ZeroPaddin  (None, 9, 9, 512)   0           ['conv5_block3_1_relu[0][0]']    \n",
            " g2D)                                                                                             \n",
            "                                                                                                  \n",
            " conv5_block3_2_conv (Conv2D)   (None, 7, 7, 512)    2359296     ['conv5_block3_2_pad[0][0]']     \n",
            "                                                                                                  \n",
            " conv5_block3_2_bn (BatchNormal  (None, 7, 7, 512)   2048        ['conv5_block3_2_conv[0][0]']    \n",
            " ization)                                                                                         \n",
            "                                                                                                  \n",
            " conv5_block3_2_relu (Activatio  (None, 7, 7, 512)   0           ['conv5_block3_2_bn[0][0]']      \n",
            " n)                                                                                               \n",
            "                                                                                                  \n",
            " conv5_block3_3_conv (Conv2D)   (None, 7, 7, 2048)   1050624     ['conv5_block3_2_relu[0][0]']    \n",
            "                                                                                                  \n",
            " conv5_block3_out (Add)         (None, 7, 7, 2048)   0           ['conv5_block2_out[0][0]',       \n",
            "                                                                  'conv5_block3_3_conv[0][0]']    \n",
            "                                                                                                  \n",
            " post_bn (BatchNormalization)   (None, 7, 7, 2048)   8192        ['conv5_block3_out[0][0]']       \n",
            "                                                                                                  \n",
            " post_relu (Activation)         (None, 7, 7, 2048)   0           ['post_bn[0][0]']                \n",
            "                                                                                                  \n",
            " flatten_1 (Flatten)            (None, 100352)       0           ['post_relu[0][0]']              \n",
            "                                                                                                  \n",
            " dense (Dense)                  (None, 4)            401412      ['flatten_1[0][0]']              \n",
            "                                                                                                  \n",
            "==================================================================================================\n",
            "Total params: 58,733,060\n",
            "Trainable params: 401,412\n",
            "Non-trainable params: 58,331,648\n",
            "__________________________________________________________________________________________________\n"
          ]
        }
      ],
      "source": [
        "model_resnet152v2.summary()"
      ]
    },
    {
      "cell_type": "code",
      "execution_count": 16,
      "metadata": {
        "id": "GJvxNO5woel3"
      },
      "outputs": [],
      "source": [
        "model_resnet152v2.compile(\n",
        "  loss='categorical_crossentropy',\n",
        "  optimizer='adam',\n",
        "  metrics=['accuracy']\n",
        ")"
      ]
    },
    {
      "cell_type": "markdown",
      "metadata": {
        "id": "SWtKJtnAekcA"
      },
      "source": [
        "#### Data Augmentation"
      ]
    },
    {
      "cell_type": "code",
      "execution_count": 17,
      "metadata": {
        "id": "xUtSWHuqoj6H"
      },
      "outputs": [],
      "source": [
        "\n",
        "from tensorflow.keras.preprocessing.image import ImageDataGenerator\n",
        "\n",
        "train_datagen_r152 = ImageDataGenerator(rescale = 1./255,\n",
        "                                   shear_range = 0.2,\n",
        "                                   zoom_range = 0.2,\n",
        "                                   horizontal_flip = True)\n",
        "\n",
        "test_datagen_r152 = ImageDataGenerator(rescale = 1./255)"
      ]
    },
    {
      "cell_type": "code",
      "execution_count": 18,
      "metadata": {
        "colab": {
          "base_uri": "https://localhost:8080/"
        },
        "id": "M9qOCyoHomCl",
        "outputId": "6672fe9c-2d83-4133-9b9e-6d7d7cbc619f"
      },
      "outputs": [
        {
          "output_type": "stream",
          "name": "stdout",
          "text": [
            "Found 1951 images belonging to 4 classes.\n"
          ]
        }
      ],
      "source": [
        "# same target size as initialied for the image size\n",
        "training_set_r152 = train_datagen_r152.flow_from_directory('/content/drive/MyDrive/Colab Notebooks/Dataset_cotton/train',\n",
        "                                                 target_size = (224, 224),\n",
        "                                                 batch_size = 32,\n",
        "                                                 class_mode = 'categorical')"
      ]
    },
    {
      "cell_type": "code",
      "execution_count": 19,
      "metadata": {
        "colab": {
          "base_uri": "https://localhost:8080/"
        },
        "id": "h7PgigHUopIS",
        "outputId": "771df4dc-854d-4595-9ded-b4c572428cf2"
      },
      "outputs": [
        {
          "output_type": "stream",
          "name": "stdout",
          "text": [
            "Found 370 images belonging to 4 classes.\n"
          ]
        }
      ],
      "source": [
        "test_set_r152 = test_datagen_r152.flow_from_directory('/content/drive/MyDrive/Colab Notebooks/Dataset_cotton/test',\n",
        "                                            target_size = (224, 224),\n",
        "                                            batch_size = 32,\n",
        "                                            class_mode = 'categorical')"
      ]
    },
    {
      "cell_type": "code",
      "source": [
        "img = plt.imread(img_path)\n",
        "img = np.expand_dims(img, axis=0)\n",
        "augmented_img = train_datagen_r152.flow(img)\n",
        "#show augmented image\n",
        "plt.imshow(augmented_img[0][0])\n",
        "plt.show()"
      ],
      "metadata": {
        "id": "9TwMDzU9rnVM",
        "colab": {
          "base_uri": "https://localhost:8080/",
          "height": 269
        },
        "outputId": "5dbbab04-24a8-4131-8f03-aabef43355d4"
      },
      "execution_count": 20,
      "outputs": [
        {
          "output_type": "display_data",
          "data": {
            "text/plain": [
              "<Figure size 432x288 with 1 Axes>"
            ],
            "image/png": "[encoded data removed]"
          },
          "metadata": {
            "needs_background": "light"
          }
        }
      ]
    },
    {
      "cell_type": "code",
      "execution_count": null,
      "metadata": {
        "colab": {
          "base_uri": "https://localhost:8080/"
        },
        "id": "AbL0TSn4or40",
        "outputId": "d6182634-bc97-492f-997d-4d12545ff8b7"
      },
      "outputs": [
        {
          "output_type": "stream",
          "name": "stderr",
          "text": [
            "<ipython-input-15-886e6209ee35>:1: UserWarning: `Model.fit_generator` is deprecated and will be removed in a future version. Please use `Model.fit`, which supports generators.\n",
            "  r1 = model_resnet152v2.fit_generator(\n"
          ]
        },
        {
          "output_type": "stream",
          "name": "stdout",
          "text": [
            "Epoch 1/15\n",
            "61/61 [==============================] - 1291s 21s/step - loss: 1.7284 - accuracy: 0.8078 - val_loss: 0.2803 - val_accuracy: 0.9541\n",
            "Epoch 2/15\n",
            "61/61 [==============================] - 46s 743ms/step - loss: 0.4091 - accuracy: 0.9298 - val_loss: 0.2345 - val_accuracy: 0.9595\n",
            "Epoch 3/15\n",
            "61/61 [==============================] - 46s 753ms/step - loss: 0.3603 - accuracy: 0.9380 - val_loss: 0.3046 - val_accuracy: 0.9595\n",
            "Epoch 4/15\n",
            "61/61 [==============================] - 46s 743ms/step - loss: 0.3259 - accuracy: 0.9513 - val_loss: 0.5909 - val_accuracy: 0.9405\n",
            "Epoch 5/15\n",
            "61/61 [==============================] - 50s 806ms/step - loss: 0.3709 - accuracy: 0.9585 - val_loss: 0.1698 - val_accuracy: 0.9622\n",
            "Epoch 6/15\n",
            "61/61 [==============================] - 47s 777ms/step - loss: 0.2842 - accuracy: 0.9651 - val_loss: 0.1089 - val_accuracy: 0.9784\n",
            "Epoch 7/15\n",
            "61/61 [==============================] - 49s 804ms/step - loss: 0.2757 - accuracy: 0.9626 - val_loss: 0.2478 - val_accuracy: 0.9703\n",
            "Epoch 8/15\n",
            "61/61 [==============================] - 48s 790ms/step - loss: 0.1778 - accuracy: 0.9703 - val_loss: 0.2785 - val_accuracy: 0.9595\n",
            "Epoch 9/15\n",
            "61/61 [==============================] - 49s 796ms/step - loss: 0.2187 - accuracy: 0.9703 - val_loss: 0.0794 - val_accuracy: 0.9838\n",
            "Epoch 10/15\n",
            "61/61 [==============================] - 49s 798ms/step - loss: 0.3605 - accuracy: 0.9605 - val_loss: 0.0779 - val_accuracy: 0.9892\n",
            "Epoch 11/15\n",
            "61/61 [==============================] - 48s 787ms/step - loss: 0.2431 - accuracy: 0.9713 - val_loss: 0.1891 - val_accuracy: 0.9730\n",
            "Epoch 12/15\n",
            "61/61 [==============================] - 48s 778ms/step - loss: 0.3649 - accuracy: 0.9682 - val_loss: 0.1600 - val_accuracy: 0.9757\n",
            "Epoch 13/15\n",
            "61/61 [==============================] - 54s 885ms/step - loss: 0.1609 - accuracy: 0.9769 - val_loss: 0.0935 - val_accuracy: 0.9838\n",
            "Epoch 14/15\n",
            "61/61 [==============================] - 48s 778ms/step - loss: 0.1316 - accuracy: 0.9846 - val_loss: 0.0736 - val_accuracy: 0.9865\n",
            "Epoch 15/15\n",
            "61/61 [==============================] - 48s 787ms/step - loss: 0.1670 - accuracy: 0.9821 - val_loss: 0.0974 - val_accuracy: 0.9892\n"
          ]
        }
      ],
      "source": [
        "\n",
        "r1 = model_resnet152v2.fit_generator(\n",
        "  training_set_r152,\n",
        "  validation_data=test_set_r152,\n",
        "  epochs=15,\n",
        "  steps_per_epoch=len(training_set_r152),\n",
        "  validation_steps=len(test_set_r152)\n",
        ")"
      ]
    },
    {
      "cell_type": "code",
      "execution_count": null,
      "metadata": {
        "colab": {
          "base_uri": "https://localhost:8080/",
          "height": 530
        },
        "id": "cfg0_pPCoxcM",
        "outputId": "90948b6c-bbd8-4e6c-eb9b-e7b311e16fb4"
      },
      "outputs": [
        {
          "output_type": "display_data",
          "data": {
            "text/plain": [
              "<Figure size 432x288 with 1 Axes>"
            ],
            "image/png": "[encoded data removed]"
          },
          "metadata": {
            "needs_background": "light"
          }
        },
        {
          "output_type": "display_data",
          "data": {
            "text/plain": [
              "<Figure size 432x288 with 1 Axes>"
            ],
            "image/png": "[encoded data removed]"
          },
          "metadata": {
            "needs_background": "light"
          }
        },
        {
          "output_type": "display_data",
          "data": {
            "text/plain": [
              "<Figure size 432x288 with 0 Axes>"
            ]
          },
          "metadata": {}
        }
      ],
      "source": [
        "# plot the loss\n",
        "plt.plot(r1.history['loss'], label='train loss')\n",
        "plt.plot(r1.history['val_loss'], label='val loss')\n",
        "plt.legend()\n",
        "plt.show()\n",
        "plt.savefig('LossVal_loss_resnet152v2')\n",
        "\n",
        "# plot the accuracy\n",
        "plt.plot(r1.history['accuracy'], label='train acc')\n",
        "plt.plot(r1.history['val_accuracy'], label='val acc')\n",
        "plt.legend()\n",
        "plt.show()\n",
        "plt.savefig('AccVal_acc_resnet152v2')"
      ]
    },
    {
      "cell_type": "markdown",
      "metadata": {
        "id": "y3zuWuRdekcC"
      },
      "source": [
        "### Save Model"
      ]
    },
    {
      "cell_type": "code",
      "execution_count": null,
      "metadata": {
        "id": "DDXFWjk0l5xw"
      },
      "outputs": [],
      "source": [
        "from tensorflow.keras.models import load_model\n",
        "\n",
        "model_resnet152v2.save('model_resnet152V2.h5')"
      ]
    },
    {
      "cell_type": "code",
      "execution_count": null,
      "metadata": {
        "colab": {
          "base_uri": "https://localhost:8080/"
        },
        "id": "N0BoSae3o3AG",
        "outputId": "913f10be-377a-4337-debb-e050c7fd33ea"
      },
      "outputs": [
        {
          "output_type": "stream",
          "name": "stdout",
          "text": [
            "12/12 [==============================] - 9s 480ms/step\n"
          ]
        }
      ],
      "source": [
        "y_pred = model_resnet152v2.predict(test_set_r152)"
      ]
    },
    {
      "cell_type": "code",
      "execution_count": null,
      "metadata": {
        "colab": {
          "base_uri": "https://localhost:8080/"
        },
        "id": "GQTV4ikqo5_q",
        "outputId": "d40f2c0e-a076-4396-d5a0-58087ec3a837"
      },
      "outputs": [
        {
          "output_type": "execute_result",
          "data": {
            "text/plain": [
              "array([[1.0000000e+00, 0.0000000e+00, 0.0000000e+00, 0.0000000e+00],\n",
              "       [1.1040698e-22, 0.0000000e+00, 1.0000000e+00, 0.0000000e+00],\n",
              "       [4.8262311e-23, 1.9001624e-26, 1.0000000e+00, 0.0000000e+00],\n",
              "       ...,\n",
              "       [3.3579207e-05, 3.7710999e-15, 5.4331096e-18, 9.9996638e-01],\n",
              "       [1.2137023e-31, 1.5513904e-38, 1.0000000e+00, 6.5105062e-22],\n",
              "       [0.0000000e+00, 0.0000000e+00, 1.0000000e+00, 0.0000000e+00]],\n",
              "      dtype=float32)"
            ]
          },
          "metadata": {},
          "execution_count": 21
        }
      ],
      "source": [
        "y_pred"
      ]
    },
    {
      "cell_type": "code",
      "execution_count": null,
      "metadata": {
        "id": "_e_e2VT9o8Kc"
      },
      "outputs": [],
      "source": [
        "import numpy as np\n",
        "y_pred = np.argmax(y_pred, axis=1)"
      ]
    },
    {
      "cell_type": "code",
      "execution_count": null,
      "metadata": {
        "colab": {
          "base_uri": "https://localhost:8080/"
        },
        "id": "0B4DPwmzpADh",
        "outputId": "3927d6aa-2f4b-47f2-8cc0-419a9bd2ff0a"
      },
      "outputs": [
        {
          "output_type": "execute_result",
          "data": {
            "text/plain": [
              "array([0, 2, 2, 1, 1, 3, 0, 1, 3, 3, 3, 0, 3, 3, 0, 1, 1, 1, 0, 3, 3, 1,\n",
              "       0, 0, 2, 0, 0, 1, 1, 2, 1, 0, 2, 3, 3, 3, 2, 1, 1, 2, 2, 1, 1, 2,\n",
              "       3, 2, 0, 0, 1, 1, 1, 0, 0, 3, 2, 2, 0, 1, 1, 1, 0, 1, 0, 0, 0, 3,\n",
              "       1, 1, 3, 1, 2, 2, 3, 1, 3, 3, 3, 2, 3, 3, 2, 0, 0, 3, 1, 1, 3, 1,\n",
              "       3, 2, 0, 0, 1, 0, 0, 2, 3, 0, 3, 0, 0, 1, 0, 2, 1, 3, 1, 0, 0, 3,\n",
              "       0, 1, 2, 1, 1, 1, 3, 1, 0, 1, 0, 3, 0, 1, 2, 3, 0, 3, 3, 2, 3, 3,\n",
              "       0, 1, 2, 1, 2, 2, 3, 0, 1, 1, 2, 1, 3, 2, 3, 2, 3, 3, 0, 3, 1, 1,\n",
              "       2, 0, 0, 0, 1, 2, 3, 2, 1, 2, 0, 3, 0, 2, 1, 1, 1, 3, 1, 0, 3, 0,\n",
              "       2, 2, 0, 0, 3, 3, 0, 0, 0, 2, 1, 2, 1, 1, 2, 3, 1, 1, 1, 3, 3, 2,\n",
              "       3, 0, 3, 1, 1, 0, 0, 2, 3, 0, 3, 2, 2, 0, 2, 2, 1, 0, 2, 1, 0, 1,\n",
              "       3, 1, 2, 2, 3, 1, 2, 2, 0, 2, 2, 1, 0, 0, 0, 2, 0, 2, 0, 2, 1, 0,\n",
              "       0, 1, 1, 0, 0, 0, 0, 3, 2, 2, 0, 0, 0, 0, 2, 3, 3, 1, 1, 2, 3, 1,\n",
              "       1, 3, 3, 1, 1, 3, 3, 1, 3, 2, 3, 1, 1, 1, 2, 3, 0, 3, 1, 2, 2, 2,\n",
              "       3, 0, 1, 3, 2, 2, 1, 1, 2, 1, 0, 1, 3, 2, 1, 0, 0, 3, 2, 1, 0, 1,\n",
              "       3, 1, 3, 2, 1, 1, 1, 0, 3, 2, 2, 0, 1, 3, 2, 1, 2, 0, 2, 3, 1, 1,\n",
              "       0, 2, 2, 0, 3, 1, 3, 3, 0, 0, 2, 3, 3, 2, 2, 2, 1, 0, 2, 3, 1, 3,\n",
              "       1, 3, 0, 1, 1, 3, 1, 2, 2, 3, 3, 0, 2, 1, 3, 3, 2, 2])"
            ]
          },
          "metadata": {},
          "execution_count": 23
        }
      ],
      "source": [
        "y_pred"
      ]
    },
    {
      "cell_type": "markdown",
      "metadata": {
        "id": "2ZLKaZG-qcKC"
      },
      "source": [
        "## Model2 : Inception V3"
      ]
    },
    {
      "cell_type": "code",
      "execution_count": null,
      "metadata": {
        "id": "yrVEos6jqamw"
      },
      "outputs": [],
      "source": [
        "from tensorflow.keras.applications.inception_v3 import InceptionV3\n",
        "from tensorflow.keras.applications.inception_v3 import preprocess_input"
      ]
    },
    {
      "cell_type": "code",
      "execution_count": null,
      "metadata": {
        "colab": {
          "base_uri": "https://localhost:8080/"
        },
        "id": "AwUC3S6Iqa01",
        "outputId": "8d79348e-f423-4571-e77e-0a510a758a73"
      },
      "outputs": [
        {
          "output_type": "stream",
          "name": "stdout",
          "text": [
            "Downloading data from https://storage.googleapis.com/tensorflow/keras-applications/inception_v3/inception_v3_weights_tf_dim_ordering_tf_kernels_notop.h5\n",
            "87910968/87910968 [==============================] - 5s 0us/step\n"
          ]
        }
      ],
      "source": [
        "inception = InceptionV3(input_shape=IMAGE_SIZE + [3], weights='imagenet', include_top=False)"
      ]
    },
    {
      "cell_type": "code",
      "execution_count": null,
      "metadata": {
        "id": "ENWqBAY0qzYp"
      },
      "outputs": [],
      "source": [
        "for layer1 in inception.layers:\n",
        "    layer1.trainable = False"
      ]
    },
    {
      "cell_type": "code",
      "execution_count": null,
      "metadata": {
        "id": "rHOoxtEEq6UD"
      },
      "outputs": [],
      "source": [
        "x1 = Flatten()(inception.output)"
      ]
    },
    {
      "cell_type": "code",
      "execution_count": null,
      "metadata": {
        "id": "q7wrLtr6q81-"
      },
      "outputs": [],
      "source": [
        "prediction = Dense(len(folders), activation='softmax')(x1)\n",
        "model_inception = Model(inputs=inception.input, outputs=prediction)"
      ]
    },
    {
      "cell_type": "code",
      "execution_count": null,
      "metadata": {
        "id": "eCSOGlD9q_Z-"
      },
      "outputs": [],
      "source": [
        "model_inception.compile(\n",
        "  loss='categorical_crossentropy',\n",
        "  optimizer='adam',\n",
        "  metrics=['accuracy']\n",
        ")"
      ]
    },
    {
      "cell_type": "code",
      "execution_count": null,
      "metadata": {
        "id": "Bz4ceJwErIB-"
      },
      "outputs": [],
      "source": [
        "\n",
        "train_datagen_inception = ImageDataGenerator(rescale = 1./255,\n",
        "                                   shear_range = 0.2,\n",
        "                                   zoom_range = 0.2,\n",
        "                                   horizontal_flip = True)\n",
        "\n",
        "test_datagen_inception = ImageDataGenerator(rescale = 1./255)"
      ]
    },
    {
      "cell_type": "code",
      "execution_count": null,
      "metadata": {
        "colab": {
          "base_uri": "https://localhost:8080/"
        },
        "id": "O2z-hGRw6Jhd",
        "outputId": "40c054e8-44c9-48f8-b262-c3a276c411c8"
      },
      "outputs": [
        {
          "output_type": "stream",
          "name": "stdout",
          "text": [
            "Found 1951 images belonging to 4 classes.\n"
          ]
        }
      ],
      "source": [
        "training_set_inception = train_datagen_inception.flow_from_directory('/content/drive/MyDrive/Colab Notebooks/Dataset_cotton/train',\n",
        "                                                 target_size = (224, 224),\n",
        "                                                 batch_size = 32,\n",
        "                                                 class_mode = 'categorical')"
      ]
    },
    {
      "cell_type": "code",
      "execution_count": null,
      "metadata": {
        "colab": {
          "base_uri": "https://localhost:8080/"
        },
        "id": "q0aa8cAm6eyO",
        "outputId": "2948df5b-816d-4235-aa23-8ad05a187dec"
      },
      "outputs": [
        {
          "output_type": "stream",
          "name": "stdout",
          "text": [
            "Found 370 images belonging to 4 classes.\n"
          ]
        }
      ],
      "source": [
        "test_set_inception = test_datagen_inception.flow_from_directory('/content/drive/MyDrive/Colab Notebooks/Dataset_cotton/test',\n",
        "                                            target_size = (224, 224),\n",
        "                                            batch_size = 32,\n",
        "                                            class_mode = 'categorical')"
      ]
    },
    {
      "cell_type": "code",
      "execution_count": null,
      "metadata": {
        "colab": {
          "base_uri": "https://localhost:8080/"
        },
        "id": "m3hZT3rArMlA",
        "outputId": "135f4902-2979-4f65-bddc-927455301170"
      },
      "outputs": [
        {
          "output_type": "stream",
          "name": "stderr",
          "text": [
            "<ipython-input-33-ca4171736742>:1: UserWarning: `Model.fit_generator` is deprecated and will be removed in a future version. Please use `Model.fit`, which supports generators.\n",
            "  r2 = model_inception.fit_generator(\n"
          ]
        },
        {
          "output_type": "stream",
          "name": "stdout",
          "text": [
            "Epoch 1/15\n",
            "61/61 [==============================] - 54s 803ms/step - loss: 1.7712 - accuracy: 0.7499 - val_loss: 0.9648 - val_accuracy: 0.8432\n",
            "Epoch 2/15\n",
            "61/61 [==============================] - 44s 724ms/step - loss: 0.6438 - accuracy: 0.8883 - val_loss: 0.3474 - val_accuracy: 0.9324\n",
            "Epoch 3/15\n",
            "61/61 [==============================] - 44s 720ms/step - loss: 0.5965 - accuracy: 0.9052 - val_loss: 0.3291 - val_accuracy: 0.9297\n",
            "Epoch 4/15\n",
            "61/61 [==============================] - 44s 724ms/step - loss: 0.3647 - accuracy: 0.9298 - val_loss: 0.3542 - val_accuracy: 0.9270\n",
            "Epoch 5/15\n",
            "61/61 [==============================] - 45s 740ms/step - loss: 0.4134 - accuracy: 0.9313 - val_loss: 0.3629 - val_accuracy: 0.9216\n",
            "Epoch 6/15\n",
            "61/61 [==============================] - 45s 731ms/step - loss: 0.6038 - accuracy: 0.9175 - val_loss: 0.3314 - val_accuracy: 0.9405\n",
            "Epoch 7/15\n",
            "61/61 [==============================] - 42s 690ms/step - loss: 0.4869 - accuracy: 0.9329 - val_loss: 0.5431 - val_accuracy: 0.9108\n",
            "Epoch 8/15\n",
            "61/61 [==============================] - 44s 717ms/step - loss: 0.5801 - accuracy: 0.9262 - val_loss: 0.5890 - val_accuracy: 0.9351\n",
            "Epoch 9/15\n",
            "61/61 [==============================] - 42s 694ms/step - loss: 0.4270 - accuracy: 0.9441 - val_loss: 0.4618 - val_accuracy: 0.9486\n",
            "Epoch 10/15\n",
            "61/61 [==============================] - 42s 695ms/step - loss: 0.5007 - accuracy: 0.9411 - val_loss: 0.4802 - val_accuracy: 0.9486\n",
            "Epoch 11/15\n",
            "61/61 [==============================] - 43s 703ms/step - loss: 0.4749 - accuracy: 0.9493 - val_loss: 0.4043 - val_accuracy: 0.9514\n",
            "Epoch 12/15\n",
            "61/61 [==============================] - 42s 692ms/step - loss: 0.5141 - accuracy: 0.9426 - val_loss: 1.3393 - val_accuracy: 0.8649\n",
            "Epoch 13/15\n",
            "61/61 [==============================] - 43s 705ms/step - loss: 0.9115 - accuracy: 0.9206 - val_loss: 0.2775 - val_accuracy: 0.9595\n",
            "Epoch 14/15\n",
            "61/61 [==============================] - 43s 700ms/step - loss: 0.4229 - accuracy: 0.9549 - val_loss: 0.3337 - val_accuracy: 0.9595\n",
            "Epoch 15/15\n",
            "61/61 [==============================] - 43s 708ms/step - loss: 0.6042 - accuracy: 0.9508 - val_loss: 0.3200 - val_accuracy: 0.9676\n"
          ]
        }
      ],
      "source": [
        "r2 = model_inception.fit_generator(\n",
        "  training_set_inception,\n",
        "  validation_data=test_set_inception,\n",
        "  epochs=15,\n",
        "  steps_per_epoch=len(training_set_inception),\n",
        "  validation_steps=len(test_set_inception)\n",
        ")"
      ]
    },
    {
      "cell_type": "code",
      "execution_count": null,
      "metadata": {
        "colab": {
          "base_uri": "https://localhost:8080/",
          "height": 530
        },
        "id": "FwvkXBWhKh6G",
        "outputId": "0f6ea6ad-5706-4a82-eb4e-b50a6d3c0ce7"
      },
      "outputs": [
        {
          "output_type": "display_data",
          "data": {
            "text/plain": [
              "<Figure size 432x288 with 1 Axes>"
            ],
            "image/png": "[encoded data removed]"
          },
          "metadata": {
            "needs_background": "light"
          }
        },
        {
          "output_type": "display_data",
          "data": {
            "text/plain": [
              "<Figure size 432x288 with 1 Axes>"
            ],
            "image/png": "[encoded data removed]"
          },
          "metadata": {
            "needs_background": "light"
          }
        },
        {
          "output_type": "display_data",
          "data": {
            "text/plain": [
              "<Figure size 432x288 with 0 Axes>"
            ]
          },
          "metadata": {}
        }
      ],
      "source": [
        "# plot the loss\n",
        "plt.plot(r2.history['loss'], label='train loss')\n",
        "plt.plot(r2.history['val_loss'], label='val loss')\n",
        "plt.legend()\n",
        "plt.show()\n",
        "plt.savefig('LossVal_loss_inception')\n",
        "\n",
        "# plot the accuracy\n",
        "plt.plot(r2.history['accuracy'], label='train acc')\n",
        "plt.plot(r2.history['val_accuracy'], label='val acc')\n",
        "plt.legend()\n",
        "plt.show()\n",
        "plt.savefig('AccVal_acc_inception')"
      ]
    },
    {
      "cell_type": "code",
      "execution_count": null,
      "metadata": {
        "id": "te6Ijb9mrdhb"
      },
      "outputs": [],
      "source": [
        "model_inception.save('model_inception.h5')"
      ]
    },
    {
      "cell_type": "markdown",
      "metadata": {
        "id": "DCTI37KZ5BkC"
      },
      "source": [
        "## Model 3 : Resnet50"
      ]
    },
    {
      "cell_type": "code",
      "execution_count": null,
      "metadata": {
        "id": "PhC0TZ064uqy"
      },
      "outputs": [],
      "source": [
        "from tensorflow.keras.applications.resnet50 import ResNet50\n",
        "from tensorflow.keras.applications.resnet50 import preprocess_input"
      ]
    },
    {
      "cell_type": "code",
      "execution_count": null,
      "metadata": {
        "colab": {
          "base_uri": "https://localhost:8080/"
        },
        "id": "RzkzheBQ5QXd",
        "outputId": "8d8e5b32-335e-45a3-b722-e76a94b1b061"
      },
      "outputs": [
        {
          "output_type": "stream",
          "name": "stdout",
          "text": [
            "Downloading data from https://storage.googleapis.com/tensorflow/keras-applications/resnet/resnet50_weights_tf_dim_ordering_tf_kernels_notop.h5\n",
            "94765736/94765736 [==============================] - 5s 0us/step\n"
          ]
        }
      ],
      "source": [
        "resnet = ResNet50(input_shape=IMAGE_SIZE + [3], weights='imagenet', include_top=False)"
      ]
    },
    {
      "cell_type": "code",
      "execution_count": null,
      "metadata": {
        "id": "HOIZX-Er5ZoO"
      },
      "outputs": [],
      "source": [
        "for layer2 in resnet.layers:\n",
        "    layer2.trainable = False"
      ]
    },
    {
      "cell_type": "code",
      "execution_count": null,
      "metadata": {
        "id": "_Xrx9bAe5uC-"
      },
      "outputs": [],
      "source": [
        "x2 = Flatten()(resnet.output)"
      ]
    },
    {
      "cell_type": "code",
      "execution_count": null,
      "metadata": {
        "id": "OAPbhaua5uGe"
      },
      "outputs": [],
      "source": [
        "prediction = Dense(len(folders), activation='softmax')(x2)\n",
        "model_resnet50 = Model(inputs=resnet.input, outputs=prediction)"
      ]
    },
    {
      "cell_type": "code",
      "execution_count": null,
      "metadata": {
        "id": "zmy0mWPk533-"
      },
      "outputs": [],
      "source": [
        "model_resnet50.compile(\n",
        "  loss='categorical_crossentropy',\n",
        "  optimizer='adam',\n",
        "  metrics=['accuracy']\n",
        ")"
      ]
    },
    {
      "cell_type": "code",
      "execution_count": null,
      "metadata": {
        "id": "Nf6MI7Lx6o7l"
      },
      "outputs": [],
      "source": [
        "train_datagen_r50 = ImageDataGenerator(rescale = 1./255,\n",
        "                                   shear_range = 0.2,\n",
        "                                   zoom_range = 0.2,\n",
        "                                   horizontal_flip = True)\n",
        "\n",
        "test_datagen_r50 = ImageDataGenerator(rescale = 1./255)"
      ]
    },
    {
      "cell_type": "code",
      "execution_count": null,
      "metadata": {
        "colab": {
          "base_uri": "https://localhost:8080/"
        },
        "id": "T3JQQr547qC0",
        "outputId": "3a949749-ba1e-4cb8-f6e1-ad7ba17fa75f"
      },
      "outputs": [
        {
          "output_type": "stream",
          "name": "stdout",
          "text": [
            "Found 1951 images belonging to 4 classes.\n"
          ]
        }
      ],
      "source": [
        "training_set_r50 = train_datagen_r50.flow_from_directory('/content/drive/MyDrive/Colab Notebooks/Dataset_cotton/train',\n",
        "                                                 target_size = (224, 224),\n",
        "                                                 batch_size = 32,\n",
        "                                                 class_mode = 'categorical')"
      ]
    },
    {
      "cell_type": "code",
      "execution_count": null,
      "metadata": {
        "colab": {
          "base_uri": "https://localhost:8080/"
        },
        "id": "kmqqABaX6py7",
        "outputId": "65ff628c-0dea-4a8d-d8e1-778b1f956eab"
      },
      "outputs": [
        {
          "output_type": "stream",
          "name": "stdout",
          "text": [
            "Found 370 images belonging to 4 classes.\n"
          ]
        }
      ],
      "source": [
        "test_set_r50 = test_datagen_r50.flow_from_directory('/content/drive/MyDrive/Colab Notebooks/Dataset_cotton/test',\n",
        "                                            target_size = (224, 224),\n",
        "                                            batch_size = 32,\n",
        "                                            class_mode = 'categorical')"
      ]
    },
    {
      "cell_type": "code",
      "execution_count": null,
      "metadata": {
        "colab": {
          "base_uri": "https://localhost:8080/"
        },
        "id": "ufKS9SmC73y9",
        "outputId": "040300dd-0094-4466-c9fa-b6cbcfa7281a"
      },
      "outputs": [
        {
          "output_type": "stream",
          "name": "stderr",
          "text": [
            "<ipython-input-47-364d3c5b2910>:1: UserWarning: `Model.fit_generator` is deprecated and will be removed in a future version. Please use `Model.fit`, which supports generators.\n",
            "  r2 = model_resnet50.fit_generator(\n"
          ]
        },
        {
          "output_type": "stream",
          "name": "stdout",
          "text": [
            "Epoch 1/15\n",
            "61/61 [==============================] - 48s 737ms/step - loss: 2.8905 - accuracy: 0.4106 - val_loss: 1.2067 - val_accuracy: 0.5541\n",
            "Epoch 2/15\n",
            "61/61 [==============================] - 44s 725ms/step - loss: 1.0815 - accuracy: 0.5700 - val_loss: 0.9321 - val_accuracy: 0.5595\n",
            "Epoch 3/15\n",
            "61/61 [==============================] - 43s 706ms/step - loss: 0.9922 - accuracy: 0.6110 - val_loss: 2.3290 - val_accuracy: 0.4054\n",
            "Epoch 4/15\n",
            "61/61 [==============================] - 43s 704ms/step - loss: 0.9113 - accuracy: 0.6494 - val_loss: 0.6453 - val_accuracy: 0.7784\n",
            "Epoch 5/15\n",
            "61/61 [==============================] - 43s 709ms/step - loss: 0.9391 - accuracy: 0.6315 - val_loss: 0.6222 - val_accuracy: 0.7459\n",
            "Epoch 6/15\n",
            "61/61 [==============================] - 43s 702ms/step - loss: 0.9038 - accuracy: 0.6602 - val_loss: 1.2978 - val_accuracy: 0.5811\n",
            "Epoch 7/15\n",
            "61/61 [==============================] - 43s 698ms/step - loss: 0.8040 - accuracy: 0.6802 - val_loss: 0.7990 - val_accuracy: 0.7189\n",
            "Epoch 8/15\n",
            "61/61 [==============================] - 43s 710ms/step - loss: 0.8076 - accuracy: 0.6868 - val_loss: 0.7692 - val_accuracy: 0.7351\n",
            "Epoch 9/15\n",
            "61/61 [==============================] - 43s 700ms/step - loss: 0.8434 - accuracy: 0.6786 - val_loss: 1.4885 - val_accuracy: 0.5919\n",
            "Epoch 10/15\n",
            "61/61 [==============================] - 44s 715ms/step - loss: 1.0069 - accuracy: 0.6545 - val_loss: 0.7816 - val_accuracy: 0.7405\n",
            "Epoch 11/15\n",
            "61/61 [==============================] - 43s 709ms/step - loss: 0.7408 - accuracy: 0.7119 - val_loss: 0.7423 - val_accuracy: 0.6838\n",
            "Epoch 12/15\n",
            "61/61 [==============================] - 43s 704ms/step - loss: 0.7532 - accuracy: 0.7058 - val_loss: 0.6469 - val_accuracy: 0.7432\n",
            "Epoch 13/15\n",
            "61/61 [==============================] - 44s 722ms/step - loss: 0.5957 - accuracy: 0.7586 - val_loss: 0.7269 - val_accuracy: 0.7000\n",
            "Epoch 14/15\n",
            "61/61 [==============================] - 44s 711ms/step - loss: 0.9213 - accuracy: 0.6694 - val_loss: 1.3675 - val_accuracy: 0.5946\n",
            "Epoch 15/15\n",
            "61/61 [==============================] - 44s 708ms/step - loss: 0.7193 - accuracy: 0.7248 - val_loss: 0.8493 - val_accuracy: 0.6892\n"
          ]
        }
      ],
      "source": [
        "r3 = model_resnet50.fit_generator(\n",
        "  training_set_r50,\n",
        "  validation_data=test_set_r50,\n",
        "  epochs=15,\n",
        "  steps_per_epoch=len(training_set_r50),\n",
        "  validation_steps=len(test_set_r50)\n",
        ")"
      ]
    },
    {
      "cell_type": "code",
      "execution_count": null,
      "metadata": {
        "id": "_gqYPe4OiR25"
      },
      "outputs": [],
      "source": [
        "model_resnet50.save('model_resnet50.h5')"
      ]
    },
    {
      "cell_type": "code",
      "execution_count": null,
      "metadata": {
        "id": "3FH9fHdUG__r"
      },
      "outputs": [],
      "source": []
    }
  ],
  "metadata": {
    "accelerator": "GPU",
    "colab": {
      "provenance": []
    },
    "gpuClass": "standard",
    "kernelspec": {
      "display_name": "Python 3 (ipykernel)",
      "language": "python",
      "name": "python3"
    },
    "language_info": {
      "codemirror_mode": {
        "name": "ipython",
        "version": 3
      },
      "file_extension": ".py",
      "mimetype": "text/x-python",
      "name": "python",
      "nbconvert_exporter": "python",
      "pygments_lexer": "ipython3",
      "version": "3.10.7"
    }
  },
  "nbformat": 4,
  "nbformat_minor": 0
}